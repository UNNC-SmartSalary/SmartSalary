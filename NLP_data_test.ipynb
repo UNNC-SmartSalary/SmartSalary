{
 "cells": [
  {
   "cell_type": "markdown",
   "metadata": {},
   "source": [
    "## Load packages"
   ]
  },
  {
   "cell_type": "code",
   "execution_count": 9,
   "metadata": {
    "ExecuteTime": {
     "end_time": "2020-03-31T01:04:41.705580Z",
     "start_time": "2020-03-31T01:04:41.701068Z"
    }
   },
   "outputs": [],
   "source": [
    "import re\n",
    "import psycopg2\n",
    "import pandas as pd\n",
    "import matplotlib.pyplot as plt\n",
    "\n",
    "from sklearn.feature_extraction.text import CountVectorizer\n",
    "from sklearn.feature_extraction.text import TfidfVectorizer\n",
    "from sklearn.model_selection import train_test_split\n",
    "from sklearn.ensemble import RandomForestClassifier\n",
    "from xgboost.sklearn import XGBClassifier\n",
    "from sklearn.metrics import accuracy_score, balanced_accuracy_score,recall_score"
   ]
  },
  {
   "cell_type": "markdown",
   "metadata": {},
   "source": [
    "## 1 - Preparation"
   ]
  },
  {
   "cell_type": "markdown",
   "metadata": {},
   "source": [
    "### 1.1 - Load local data"
   ]
  },
  {
   "cell_type": "code",
   "execution_count": 2,
   "metadata": {
    "scrolled": true
   },
   "outputs": [],
   "source": [
    "# raw_data = pd.read_excel(\"NLP_Sample_dataset.xlsx\")\n",
    "# raw_data = raw_data[['Code', 'jd']]\n",
    "# raw_data"
   ]
  },
  {
   "cell_type": "markdown",
   "metadata": {},
   "source": [
    "### 1.2 - Load data from PostgreSQL database"
   ]
  },
  {
   "cell_type": "code",
   "execution_count": 2,
   "metadata": {
    "ExecuteTime": {
     "end_time": "2020-03-31T00:59:40.326469Z",
     "start_time": "2020-03-31T00:59:39.974464Z"
    }
   },
   "outputs": [
    {
     "name": "stdout",
     "output_type": "stream",
     "text": [
      "connection successful\n"
     ]
    }
   ],
   "source": [
    "# Test connecttion to the PostgreSQL sever\n",
    "def test_sql_connection():\n",
    "    try:\n",
    "        conn = psycopg2.connect(dbname=\"postgres\", user=\"readonly\",\n",
    "                                host=\"47.103.73.205\", password=\"123456\", port=\"25432\")\n",
    "        print(\"connection successful\")\n",
    "    except:\n",
    "        print(\"I am unable to connect to the database\")\n",
    "    conn.close()\n",
    "\n",
    "test_sql_connection()"
   ]
  },
  {
   "cell_type": "code",
   "execution_count": 3,
   "metadata": {
    "ExecuteTime": {
     "end_time": "2020-03-31T00:59:53.832329Z",
     "start_time": "2020-03-31T00:59:53.828556Z"
    }
   },
   "outputs": [],
   "source": [
    "# Load data from PostgreSQL sever\n",
    "def load_data(sql_command):\n",
    "    conn = psycopg2.connect(dbname=\"postgres\", user=\"readonly\",\n",
    "                                host=\"47.103.73.205\", password=\"123456\", port=\"25432\")\n",
    "    data = pd.read_sql(sql_command, conn) # Read data as dataframe\n",
    "    conn.close()\n",
    "    \n",
    "    return data"
   ]
  },
  {
   "cell_type": "markdown",
   "metadata": {},
   "source": [
    "**Test function:** `load_data(sql_command)` "
   ]
  },
  {
   "cell_type": "code",
   "execution_count": 4,
   "metadata": {
    "ExecuteTime": {
     "end_time": "2020-03-31T01:00:04.109560Z",
     "start_time": "2020-03-31T01:00:03.474630Z"
    }
   },
   "outputs": [
    {
     "data": {
      "text/html": [
       "<div>\n",
       "<style scoped>\n",
       "    .dataframe tbody tr th:only-of-type {\n",
       "        vertical-align: middle;\n",
       "    }\n",
       "\n",
       "    .dataframe tbody tr th {\n",
       "        vertical-align: top;\n",
       "    }\n",
       "\n",
       "    .dataframe thead th {\n",
       "        text-align: right;\n",
       "    }\n",
       "</style>\n",
       "<table border=\"1\" class=\"dataframe\">\n",
       "  <thead>\n",
       "    <tr style=\"text-align: right;\">\n",
       "      <th></th>\n",
       "      <th>Type</th>\n",
       "      <th>Code</th>\n",
       "      <th>fun1_code</th>\n",
       "      <th>fun2_code</th>\n",
       "      <th>jobname_ch</th>\n",
       "      <th>jobname_en</th>\n",
       "      <th>id</th>\n",
       "      <th>coname</th>\n",
       "      <th>poname</th>\n",
       "      <th>jd</th>\n",
       "      <th>source</th>\n",
       "    </tr>\n",
       "  </thead>\n",
       "  <tbody>\n",
       "    <tr>\n",
       "      <th>0</th>\n",
       "      <td>DIS</td>\n",
       "      <td>APM010</td>\n",
       "      <td>APM</td>\n",
       "      <td>010</td>\n",
       "      <td>信息技术项目管理</td>\n",
       "      <td>Information Technology Project Management</td>\n",
       "      <td>45469</td>\n",
       "      <td>Savi Technologies</td>\n",
       "      <td>Sr. IT Project Manager</td>\n",
       "      <td>Savi Technologies Inc. is seeking Sr. IT Proje...</td>\n",
       "      <td>indeed</td>\n",
       "    </tr>\n",
       "    <tr>\n",
       "      <th>1</th>\n",
       "      <td>DIS</td>\n",
       "      <td>APM010</td>\n",
       "      <td>APM</td>\n",
       "      <td>010</td>\n",
       "      <td>信息技术项目管理</td>\n",
       "      <td>Information Technology Project Management</td>\n",
       "      <td>45472</td>\n",
       "      <td>Albemarle Corporation</td>\n",
       "      <td>Sr. IT Project Manager</td>\n",
       "      <td>Are you inspired by “what’s next”? So are we.W...</td>\n",
       "      <td>indeed</td>\n",
       "    </tr>\n",
       "    <tr>\n",
       "      <th>2</th>\n",
       "      <td>DIS</td>\n",
       "      <td>APM010</td>\n",
       "      <td>APM</td>\n",
       "      <td>010</td>\n",
       "      <td>信息技术项目管理</td>\n",
       "      <td>Information Technology Project Management</td>\n",
       "      <td>45475</td>\n",
       "      <td>The American Kennel Club Inc</td>\n",
       "      <td>IT Project Manager</td>\n",
       "      <td>I. Position DescriptionThis position is respon...</td>\n",
       "      <td>indeed</td>\n",
       "    </tr>\n",
       "    <tr>\n",
       "      <th>3</th>\n",
       "      <td>DIS</td>\n",
       "      <td>APM010</td>\n",
       "      <td>APM</td>\n",
       "      <td>010</td>\n",
       "      <td>信息技术项目管理</td>\n",
       "      <td>Information Technology Project Management</td>\n",
       "      <td>45482</td>\n",
       "      <td>Avani Technology Solutions Inc</td>\n",
       "      <td>IT Project Manager</td>\n",
       "      <td>Job DetailsJob CodeJPSC-6965Posted Date03/08/1...</td>\n",
       "      <td>indeed</td>\n",
       "    </tr>\n",
       "    <tr>\n",
       "      <th>4</th>\n",
       "      <td>DIS</td>\n",
       "      <td>APM010</td>\n",
       "      <td>APM</td>\n",
       "      <td>010</td>\n",
       "      <td>信息技术项目管理</td>\n",
       "      <td>Information Technology Project Management</td>\n",
       "      <td>45483</td>\n",
       "      <td>Plymouth Rock Assurance</td>\n",
       "      <td>IT Project Manager</td>\n",
       "      <td>Position Summary:This person will perform Proj...</td>\n",
       "      <td>indeed</td>\n",
       "    </tr>\n",
       "  </tbody>\n",
       "</table>\n",
       "</div>"
      ],
      "text/plain": [
       "  Type    Code fun1_code fun2_code jobname_ch  \\\n",
       "0  DIS  APM010       APM       010   信息技术项目管理   \n",
       "1  DIS  APM010       APM       010   信息技术项目管理   \n",
       "2  DIS  APM010       APM       010   信息技术项目管理   \n",
       "3  DIS  APM010       APM       010   信息技术项目管理   \n",
       "4  DIS  APM010       APM       010   信息技术项目管理   \n",
       "\n",
       "                                  jobname_en     id  \\\n",
       "0  Information Technology Project Management  45469   \n",
       "1  Information Technology Project Management  45472   \n",
       "2  Information Technology Project Management  45475   \n",
       "3  Information Technology Project Management  45482   \n",
       "4  Information Technology Project Management  45483   \n",
       "\n",
       "                           coname                  poname  \\\n",
       "0               Savi Technologies  Sr. IT Project Manager   \n",
       "1           Albemarle Corporation  Sr. IT Project Manager   \n",
       "2    The American Kennel Club Inc      IT Project Manager   \n",
       "3  Avani Technology Solutions Inc      IT Project Manager   \n",
       "4         Plymouth Rock Assurance      IT Project Manager   \n",
       "\n",
       "                                                  jd  source  \n",
       "0  Savi Technologies Inc. is seeking Sr. IT Proje...  indeed  \n",
       "1  Are you inspired by “what’s next”? So are we.W...  indeed  \n",
       "2  I. Position DescriptionThis position is respon...  indeed  \n",
       "3  Job DetailsJob CodeJPSC-6965Posted Date03/08/1...  indeed  \n",
       "4  Position Summary:This person will perform Proj...  indeed  "
      ]
     },
     "execution_count": 4,
     "metadata": {},
     "output_type": "execute_result"
    }
   ],
   "source": [
    "test_sql = \"SELECT * FROM meta_training_data_jd LIMIT 5;\"\n",
    "load_data(test_sql)"
   ]
  },
  {
   "cell_type": "markdown",
   "metadata": {},
   "source": [
    "### 1.3 - Define functions to generate the feature matrix with word count\n",
    "`CountVectorizer` library: [Documentation](https://scikit-learn.org/stable/modules/generated/sklearn.feature_extraction.text.CountVectorizer.html)"
   ]
  },
  {
   "cell_type": "code",
   "execution_count": 5,
   "metadata": {
    "ExecuteTime": {
     "end_time": "2020-03-31T01:03:03.860273Z",
     "start_time": "2020-03-31T01:03:03.851055Z"
    }
   },
   "outputs": [],
   "source": [
    "# get stop words\n",
    "stopwords = []\n",
    "with open(\"stop_words_en.txt\", 'r') as file:\n",
    "    for word in file.readlines():\n",
    "        stopwords.append(word.strip('\\n'))\n",
    "\n",
    "        \n",
    "# clean the feature columns, keep only pure english words        \n",
    "def clean_feature(df):\n",
    "    feature_list = df.columns.tolist()\n",
    "    \n",
    "    word_feature = []\n",
    "    for i in feature_list:\n",
    "        match = re.findall(r'^[a-z]+$', i)\n",
    "        if match:\n",
    "            word_feature.append(i)\n",
    "        else: \n",
    "            pass\n",
    "    \n",
    "    return df[word_feature]\n",
    "\n",
    "\n",
    "# Generate feature matrix\n",
    "def generate_feature_matrix(text, label):\n",
    "    \"\"\"Input: ('text', 'label': list or array-like), generate a feature matrix with word count and label)\"\"\"\n",
    "    cv = CountVectorizer(analyzer='word', stop_words=stopwords)\n",
    "    cv_fit = cv.fit_transform(text)\n",
    "\n",
    "    feature_matrix = pd.DataFrame(cv_fit.toarray(), columns=cv.get_feature_names())\n",
    "    feature_matrix = clean_feature(feature_matrix)  # Clean feature name\n",
    "    feature_matrix.insert(0, \"data_label\", label)  # Add label\n",
    "\n",
    "    return feature_matrix"
   ]
  },
  {
   "cell_type": "markdown",
   "metadata": {},
   "source": [
    "**Test function:** `generate_feature_matrix`"
   ]
  },
  {
   "cell_type": "code",
   "execution_count": 6,
   "metadata": {
    "ExecuteTime": {
     "end_time": "2020-03-31T01:03:12.972640Z",
     "start_time": "2020-03-31T01:03:12.953415Z"
    },
    "scrolled": true
   },
   "outputs": [
    {
     "name": "stderr",
     "output_type": "stream",
     "text": [
      "/opt/anaconda3/lib/python3.7/site-packages/sklearn/feature_extraction/text.py:300: UserWarning: Your stop_words may be inconsistent with your preprocessing. Tokenizing the stop words generated tokens ['ain', 'al', 'couldn', 'didn', 'doesn', 'don', 'hadn', 'hasn', 'haven', 'isn', 'll', 'mon', 'shouldn', 've', 'wasn', 'weren', 'won', 'wouldn'] not in stop_words.\n",
      "  'stop_words.' % sorted(inconsistent))\n"
     ]
    },
    {
     "data": {
      "text/html": [
       "<div>\n",
       "<style scoped>\n",
       "    .dataframe tbody tr th:only-of-type {\n",
       "        vertical-align: middle;\n",
       "    }\n",
       "\n",
       "    .dataframe tbody tr th {\n",
       "        vertical-align: top;\n",
       "    }\n",
       "\n",
       "    .dataframe thead th {\n",
       "        text-align: right;\n",
       "    }\n",
       "</style>\n",
       "<table border=\"1\" class=\"dataframe\">\n",
       "  <thead>\n",
       "    <tr style=\"text-align: right;\">\n",
       "      <th></th>\n",
       "      <th>data_label</th>\n",
       "      <th>analysis</th>\n",
       "      <th>data</th>\n",
       "      <th>disciplinary</th>\n",
       "      <th>extract</th>\n",
       "      <th>field</th>\n",
       "      <th>insights</th>\n",
       "      <th>inter</th>\n",
       "      <th>knowledge</th>\n",
       "      <th>learning</th>\n",
       "      <th>machine</th>\n",
       "      <th>mining</th>\n",
       "      <th>science</th>\n",
       "      <th>statistics</th>\n",
       "      <th>unifies</th>\n",
       "    </tr>\n",
       "  </thead>\n",
       "  <tbody>\n",
       "    <tr>\n",
       "      <th>0</th>\n",
       "      <td>Joseph</td>\n",
       "      <td>0</td>\n",
       "      <td>2</td>\n",
       "      <td>1</td>\n",
       "      <td>1</td>\n",
       "      <td>1</td>\n",
       "      <td>1</td>\n",
       "      <td>1</td>\n",
       "      <td>1</td>\n",
       "      <td>0</td>\n",
       "      <td>0</td>\n",
       "      <td>0</td>\n",
       "      <td>1</td>\n",
       "      <td>0</td>\n",
       "      <td>0</td>\n",
       "    </tr>\n",
       "    <tr>\n",
       "      <th>1</th>\n",
       "      <td>is</td>\n",
       "      <td>0</td>\n",
       "      <td>3</td>\n",
       "      <td>0</td>\n",
       "      <td>0</td>\n",
       "      <td>0</td>\n",
       "      <td>0</td>\n",
       "      <td>0</td>\n",
       "      <td>0</td>\n",
       "      <td>0</td>\n",
       "      <td>0</td>\n",
       "      <td>1</td>\n",
       "      <td>1</td>\n",
       "      <td>0</td>\n",
       "      <td>0</td>\n",
       "    </tr>\n",
       "    <tr>\n",
       "      <th>2</th>\n",
       "      <td>awesome</td>\n",
       "      <td>1</td>\n",
       "      <td>2</td>\n",
       "      <td>0</td>\n",
       "      <td>0</td>\n",
       "      <td>0</td>\n",
       "      <td>0</td>\n",
       "      <td>0</td>\n",
       "      <td>0</td>\n",
       "      <td>1</td>\n",
       "      <td>1</td>\n",
       "      <td>0</td>\n",
       "      <td>1</td>\n",
       "      <td>1</td>\n",
       "      <td>1</td>\n",
       "    </tr>\n",
       "  </tbody>\n",
       "</table>\n",
       "</div>"
      ],
      "text/plain": [
       "  data_label  analysis  data  disciplinary  extract  field  insights  inter  \\\n",
       "0     Joseph         0     2             1        1      1         1      1   \n",
       "1         is         0     3             0        0      0         0      0   \n",
       "2    awesome         1     2             0        0      0         0      0   \n",
       "\n",
       "   knowledge  learning  machine  mining  science  statistics  unifies  \n",
       "0          1         0        0       0        1           0        0  \n",
       "1          0         0        0       1        1           0        0  \n",
       "2          0         1        1       0        1           1        1  "
      ]
     },
     "execution_count": 6,
     "metadata": {},
     "output_type": "execute_result"
    }
   ],
   "source": [
    "# Test text\n",
    "test_text = [\"Data science is an inter-disciplinary field to extract knowledge and insights from data.\",\n",
    "             \"Data science is related to data mining and big data 666 555teststring.\",\n",
    "             \"Data science unifies statistics, data analysis, and machine learning.\"]\n",
    "test_label = [\"Joseph\", \"is\" ,\"awesome\"]\n",
    "\n",
    "# Test\n",
    "test_matrix = generate_feature_matrix(test_text, test_label)\n",
    "test_matrix"
   ]
  },
  {
   "cell_type": "code",
   "execution_count": 7,
   "metadata": {
    "ExecuteTime": {
     "end_time": "2020-03-31T01:03:16.884741Z",
     "start_time": "2020-03-31T01:03:16.879906Z"
    }
   },
   "outputs": [],
   "source": [
    "def model_evaluation(model, X_test, y_test):\n",
    "    y_pred = model.predict(X_test)\n",
    "\n",
    "    acc = accuracy_score(y_test, y_pred)\n",
    "    balanced = balanced_accuracy_score(y_test, y_pred)\n",
    "    recall = recall_score(y_test, y_pred, average='micro')\n",
    "    specificity = recall_score(y_test, y_pred, pos_label=0, average='micro')\n",
    "\n",
    "    print('Accaccuracy: {}\\nRecall: {}\\nSpecificity: {}\\nBalanced: {}'.format(\n",
    "        acc, recall, specificity, balanced))"
   ]
  },
  {
   "cell_type": "markdown",
   "metadata": {},
   "source": [
    "## 2 - Model training"
   ]
  },
  {
   "cell_type": "markdown",
   "metadata": {},
   "source": [
    "### 2.1 - Prepare train-test data "
   ]
  },
  {
   "cell_type": "code",
   "execution_count": 8,
   "metadata": {
    "ExecuteTime": {
     "end_time": "2020-03-31T01:04:15.363416Z",
     "start_time": "2020-03-31T01:03:21.943769Z"
    }
   },
   "outputs": [
    {
     "name": "stdout",
     "output_type": "stream",
     "text": [
      "<class 'pandas.core.frame.DataFrame'>\n",
      "RangeIndex: 2000 entries, 0 to 1999\n",
      "Data columns (total 2 columns):\n",
      " #   Column  Non-Null Count  Dtype \n",
      "---  ------  --------------  ----- \n",
      " 0   Code    2000 non-null   object\n",
      " 1   jd      2000 non-null   object\n",
      "dtypes: object(2)\n",
      "memory usage: 31.4+ KB\n",
      "CPU times: user 64.9 ms, sys: 86.1 ms, total: 151 ms\n",
      "Wall time: 53.4 s\n"
     ]
    },
    {
     "data": {
      "text/plain": [
       "' **Time warning**\\n1,000 reocods: 24.9 s \\n10,000 records: 4 min 50s\\n'"
      ]
     },
     "execution_count": 8,
     "metadata": {},
     "output_type": "execute_result"
    }
   ],
   "source": [
    "%%time\n",
    "\n",
    "sql_1 = 'SELECT \"Code\", \"jd\" FROM meta_training_data_jd LIMIT 2000;'\n",
    "all_data = load_data(sql_1)\n",
    "\n",
    "all_data.info()\n",
    "\n",
    "\"\"\" **Time warning**\n",
    "1,000 reocods: 24.9 s \n",
    "10,000 records: 4 min 50s\n",
    "\"\"\""
   ]
  },
  {
   "cell_type": "code",
   "execution_count": 13,
   "metadata": {
    "ExecuteTime": {
     "end_time": "2020-03-31T01:41:11.089395Z",
     "start_time": "2020-03-31T01:41:09.454499Z"
    },
    "scrolled": false
   },
   "outputs": [
    {
     "name": "stderr",
     "output_type": "stream",
     "text": [
      "/opt/anaconda3/lib/python3.7/site-packages/sklearn/feature_extraction/text.py:300: UserWarning: Your stop_words may be inconsistent with your preprocessing. Tokenizing the stop words generated tokens ['ain', 'al', 'couldn', 'didn', 'doesn', 'don', 'hadn', 'hasn', 'haven', 'isn', 'll', 'mon', 'shouldn', 've', 'wasn', 'weren', 'won', 'wouldn'] not in stop_words.\n",
      "  'stop_words.' % sorted(inconsistent))\n"
     ]
    },
    {
     "data": {
      "text/html": [
       "<div>\n",
       "<style scoped>\n",
       "    .dataframe tbody tr th:only-of-type {\n",
       "        vertical-align: middle;\n",
       "    }\n",
       "\n",
       "    .dataframe tbody tr th {\n",
       "        vertical-align: top;\n",
       "    }\n",
       "\n",
       "    .dataframe thead th {\n",
       "        text-align: right;\n",
       "    }\n",
       "</style>\n",
       "<table border=\"1\" class=\"dataframe\">\n",
       "  <thead>\n",
       "    <tr style=\"text-align: right;\">\n",
       "      <th></th>\n",
       "      <th>data_label</th>\n",
       "      <th>aa</th>\n",
       "      <th>aaa</th>\n",
       "      <th>aabb</th>\n",
       "      <th>aac</th>\n",
       "      <th>aace</th>\n",
       "      <th>aadditional</th>\n",
       "      <th>aae</th>\n",
       "      <th>aais</th>\n",
       "      <th>aanderson</th>\n",
       "      <th>...</th>\n",
       "      <th>zp</th>\n",
       "      <th>zr</th>\n",
       "      <th>zug</th>\n",
       "      <th>zumajob</th>\n",
       "      <th>zuniga</th>\n",
       "      <th>zunigahenry</th>\n",
       "      <th>zuora</th>\n",
       "      <th>zweig</th>\n",
       "      <th>zyberk</th>\n",
       "      <th>zycus</th>\n",
       "    </tr>\n",
       "  </thead>\n",
       "  <tbody>\n",
       "    <tr>\n",
       "      <th>0</th>\n",
       "      <td>APM010</td>\n",
       "      <td>0</td>\n",
       "      <td>0</td>\n",
       "      <td>0</td>\n",
       "      <td>0</td>\n",
       "      <td>0</td>\n",
       "      <td>0</td>\n",
       "      <td>0</td>\n",
       "      <td>0</td>\n",
       "      <td>0</td>\n",
       "      <td>...</td>\n",
       "      <td>0</td>\n",
       "      <td>0</td>\n",
       "      <td>0</td>\n",
       "      <td>0</td>\n",
       "      <td>0</td>\n",
       "      <td>0</td>\n",
       "      <td>0</td>\n",
       "      <td>0</td>\n",
       "      <td>0</td>\n",
       "      <td>0</td>\n",
       "    </tr>\n",
       "    <tr>\n",
       "      <th>1</th>\n",
       "      <td>APM010</td>\n",
       "      <td>0</td>\n",
       "      <td>0</td>\n",
       "      <td>0</td>\n",
       "      <td>0</td>\n",
       "      <td>0</td>\n",
       "      <td>0</td>\n",
       "      <td>0</td>\n",
       "      <td>0</td>\n",
       "      <td>0</td>\n",
       "      <td>...</td>\n",
       "      <td>0</td>\n",
       "      <td>0</td>\n",
       "      <td>0</td>\n",
       "      <td>0</td>\n",
       "      <td>0</td>\n",
       "      <td>0</td>\n",
       "      <td>0</td>\n",
       "      <td>0</td>\n",
       "      <td>0</td>\n",
       "      <td>0</td>\n",
       "    </tr>\n",
       "    <tr>\n",
       "      <th>2</th>\n",
       "      <td>APM010</td>\n",
       "      <td>0</td>\n",
       "      <td>0</td>\n",
       "      <td>0</td>\n",
       "      <td>0</td>\n",
       "      <td>0</td>\n",
       "      <td>0</td>\n",
       "      <td>0</td>\n",
       "      <td>0</td>\n",
       "      <td>0</td>\n",
       "      <td>...</td>\n",
       "      <td>0</td>\n",
       "      <td>0</td>\n",
       "      <td>0</td>\n",
       "      <td>0</td>\n",
       "      <td>0</td>\n",
       "      <td>0</td>\n",
       "      <td>0</td>\n",
       "      <td>0</td>\n",
       "      <td>0</td>\n",
       "      <td>0</td>\n",
       "    </tr>\n",
       "    <tr>\n",
       "      <th>3</th>\n",
       "      <td>APM010</td>\n",
       "      <td>0</td>\n",
       "      <td>0</td>\n",
       "      <td>0</td>\n",
       "      <td>0</td>\n",
       "      <td>0</td>\n",
       "      <td>0</td>\n",
       "      <td>0</td>\n",
       "      <td>0</td>\n",
       "      <td>0</td>\n",
       "      <td>...</td>\n",
       "      <td>0</td>\n",
       "      <td>0</td>\n",
       "      <td>0</td>\n",
       "      <td>0</td>\n",
       "      <td>0</td>\n",
       "      <td>0</td>\n",
       "      <td>0</td>\n",
       "      <td>0</td>\n",
       "      <td>0</td>\n",
       "      <td>0</td>\n",
       "    </tr>\n",
       "    <tr>\n",
       "      <th>4</th>\n",
       "      <td>APM010</td>\n",
       "      <td>0</td>\n",
       "      <td>0</td>\n",
       "      <td>0</td>\n",
       "      <td>0</td>\n",
       "      <td>0</td>\n",
       "      <td>0</td>\n",
       "      <td>0</td>\n",
       "      <td>0</td>\n",
       "      <td>0</td>\n",
       "      <td>...</td>\n",
       "      <td>0</td>\n",
       "      <td>0</td>\n",
       "      <td>0</td>\n",
       "      <td>0</td>\n",
       "      <td>0</td>\n",
       "      <td>0</td>\n",
       "      <td>0</td>\n",
       "      <td>0</td>\n",
       "      <td>0</td>\n",
       "      <td>0</td>\n",
       "    </tr>\n",
       "    <tr>\n",
       "      <th>...</th>\n",
       "      <td>...</td>\n",
       "      <td>...</td>\n",
       "      <td>...</td>\n",
       "      <td>...</td>\n",
       "      <td>...</td>\n",
       "      <td>...</td>\n",
       "      <td>...</td>\n",
       "      <td>...</td>\n",
       "      <td>...</td>\n",
       "      <td>...</td>\n",
       "      <td>...</td>\n",
       "      <td>...</td>\n",
       "      <td>...</td>\n",
       "      <td>...</td>\n",
       "      <td>...</td>\n",
       "      <td>...</td>\n",
       "      <td>...</td>\n",
       "      <td>...</td>\n",
       "      <td>...</td>\n",
       "      <td>...</td>\n",
       "      <td>...</td>\n",
       "    </tr>\n",
       "    <tr>\n",
       "      <th>1995</th>\n",
       "      <td>AFB000</td>\n",
       "      <td>0</td>\n",
       "      <td>0</td>\n",
       "      <td>0</td>\n",
       "      <td>0</td>\n",
       "      <td>0</td>\n",
       "      <td>0</td>\n",
       "      <td>0</td>\n",
       "      <td>0</td>\n",
       "      <td>0</td>\n",
       "      <td>...</td>\n",
       "      <td>0</td>\n",
       "      <td>0</td>\n",
       "      <td>0</td>\n",
       "      <td>0</td>\n",
       "      <td>0</td>\n",
       "      <td>0</td>\n",
       "      <td>0</td>\n",
       "      <td>0</td>\n",
       "      <td>0</td>\n",
       "      <td>0</td>\n",
       "    </tr>\n",
       "    <tr>\n",
       "      <th>1996</th>\n",
       "      <td>AFB000</td>\n",
       "      <td>0</td>\n",
       "      <td>0</td>\n",
       "      <td>0</td>\n",
       "      <td>0</td>\n",
       "      <td>0</td>\n",
       "      <td>0</td>\n",
       "      <td>0</td>\n",
       "      <td>0</td>\n",
       "      <td>0</td>\n",
       "      <td>...</td>\n",
       "      <td>0</td>\n",
       "      <td>0</td>\n",
       "      <td>0</td>\n",
       "      <td>0</td>\n",
       "      <td>0</td>\n",
       "      <td>0</td>\n",
       "      <td>0</td>\n",
       "      <td>0</td>\n",
       "      <td>0</td>\n",
       "      <td>0</td>\n",
       "    </tr>\n",
       "    <tr>\n",
       "      <th>1997</th>\n",
       "      <td>AFB000</td>\n",
       "      <td>0</td>\n",
       "      <td>0</td>\n",
       "      <td>0</td>\n",
       "      <td>0</td>\n",
       "      <td>0</td>\n",
       "      <td>0</td>\n",
       "      <td>0</td>\n",
       "      <td>0</td>\n",
       "      <td>0</td>\n",
       "      <td>...</td>\n",
       "      <td>0</td>\n",
       "      <td>0</td>\n",
       "      <td>0</td>\n",
       "      <td>0</td>\n",
       "      <td>0</td>\n",
       "      <td>0</td>\n",
       "      <td>0</td>\n",
       "      <td>0</td>\n",
       "      <td>0</td>\n",
       "      <td>0</td>\n",
       "    </tr>\n",
       "    <tr>\n",
       "      <th>1998</th>\n",
       "      <td>AFB000</td>\n",
       "      <td>0</td>\n",
       "      <td>0</td>\n",
       "      <td>0</td>\n",
       "      <td>0</td>\n",
       "      <td>0</td>\n",
       "      <td>0</td>\n",
       "      <td>0</td>\n",
       "      <td>0</td>\n",
       "      <td>0</td>\n",
       "      <td>...</td>\n",
       "      <td>0</td>\n",
       "      <td>0</td>\n",
       "      <td>0</td>\n",
       "      <td>0</td>\n",
       "      <td>0</td>\n",
       "      <td>0</td>\n",
       "      <td>0</td>\n",
       "      <td>0</td>\n",
       "      <td>0</td>\n",
       "      <td>0</td>\n",
       "    </tr>\n",
       "    <tr>\n",
       "      <th>1999</th>\n",
       "      <td>AFB000</td>\n",
       "      <td>0</td>\n",
       "      <td>0</td>\n",
       "      <td>0</td>\n",
       "      <td>0</td>\n",
       "      <td>0</td>\n",
       "      <td>0</td>\n",
       "      <td>0</td>\n",
       "      <td>0</td>\n",
       "      <td>0</td>\n",
       "      <td>...</td>\n",
       "      <td>0</td>\n",
       "      <td>0</td>\n",
       "      <td>0</td>\n",
       "      <td>0</td>\n",
       "      <td>0</td>\n",
       "      <td>0</td>\n",
       "      <td>0</td>\n",
       "      <td>0</td>\n",
       "      <td>0</td>\n",
       "      <td>0</td>\n",
       "    </tr>\n",
       "  </tbody>\n",
       "</table>\n",
       "<p>2000 rows × 32900 columns</p>\n",
       "</div>"
      ],
      "text/plain": [
       "     data_label  aa  aaa  aabb  aac  aace  aadditional  aae  aais  aanderson  \\\n",
       "0        APM010   0    0     0    0     0            0    0     0          0   \n",
       "1        APM010   0    0     0    0     0            0    0     0          0   \n",
       "2        APM010   0    0     0    0     0            0    0     0          0   \n",
       "3        APM010   0    0     0    0     0            0    0     0          0   \n",
       "4        APM010   0    0     0    0     0            0    0     0          0   \n",
       "...         ...  ..  ...   ...  ...   ...          ...  ...   ...        ...   \n",
       "1995     AFB000   0    0     0    0     0            0    0     0          0   \n",
       "1996     AFB000   0    0     0    0     0            0    0     0          0   \n",
       "1997     AFB000   0    0     0    0     0            0    0     0          0   \n",
       "1998     AFB000   0    0     0    0     0            0    0     0          0   \n",
       "1999     AFB000   0    0     0    0     0            0    0     0          0   \n",
       "\n",
       "      ...  zp  zr  zug  zumajob  zuniga  zunigahenry  zuora  zweig  zyberk  \\\n",
       "0     ...   0   0    0        0       0            0      0      0       0   \n",
       "1     ...   0   0    0        0       0            0      0      0       0   \n",
       "2     ...   0   0    0        0       0            0      0      0       0   \n",
       "3     ...   0   0    0        0       0            0      0      0       0   \n",
       "4     ...   0   0    0        0       0            0      0      0       0   \n",
       "...   ...  ..  ..  ...      ...     ...          ...    ...    ...     ...   \n",
       "1995  ...   0   0    0        0       0            0      0      0       0   \n",
       "1996  ...   0   0    0        0       0            0      0      0       0   \n",
       "1997  ...   0   0    0        0       0            0      0      0       0   \n",
       "1998  ...   0   0    0        0       0            0      0      0       0   \n",
       "1999  ...   0   0    0        0       0            0      0      0       0   \n",
       "\n",
       "      zycus  \n",
       "0         0  \n",
       "1         0  \n",
       "2         0  \n",
       "3         0  \n",
       "4         0  \n",
       "...     ...  \n",
       "1995      0  \n",
       "1996      0  \n",
       "1997      0  \n",
       "1998      0  \n",
       "1999      0  \n",
       "\n",
       "[2000 rows x 32900 columns]"
      ]
     },
     "execution_count": 13,
     "metadata": {},
     "output_type": "execute_result"
    }
   ],
   "source": [
    "data = generate_feature_matrix(all_data.jd, all_data.Code)\n",
    "data"
   ]
  },
  {
   "cell_type": "code",
   "execution_count": 42,
   "metadata": {
    "ExecuteTime": {
     "end_time": "2020-03-31T12:35:10.697982Z",
     "start_time": "2020-03-31T12:35:10.370668Z"
    }
   },
   "outputs": [],
   "source": [
    "data_sort = data.iloc[:,data.columns != \"data_label\"]"
   ]
  },
  {
   "cell_type": "code",
   "execution_count": 44,
   "metadata": {
    "ExecuteTime": {
     "end_time": "2020-03-31T12:36:14.756582Z",
     "start_time": "2020-03-31T12:36:14.671889Z"
    }
   },
   "outputs": [
    {
     "name": "stdout",
     "output_type": "stream",
     "text": [
      "llcis                      1\n",
      "obstaclesmay               1\n",
      "obstaclesestablishes       1\n",
      "obstacle                   1\n",
      "obsessive                  1\n",
      "                        ... \n",
      "quality                 3603\n",
      "team                    3771\n",
      "management              5146\n",
      "experience              6420\n",
      "project                 7820\n",
      "Length: 32899, dtype: int64\n"
     ]
    }
   ],
   "source": [
    "print(data_sort.sum().sort_values())"
   ]
  },
  {
   "cell_type": "code",
   "execution_count": null,
   "metadata": {},
   "outputs": [],
   "source": []
  },
  {
   "cell_type": "code",
   "execution_count": null,
   "metadata": {},
   "outputs": [],
   "source": []
  },
  {
   "cell_type": "markdown",
   "metadata": {},
   "source": [
    "[train_test_split()](https://scikit-learn.org/stable/modules/generated/sklearn.model_selection.train_test_split.html)"
   ]
  },
  {
   "cell_type": "code",
   "execution_count": 18,
   "metadata": {
    "ExecuteTime": {
     "end_time": "2020-03-31T01:44:54.022171Z",
     "start_time": "2020-03-31T01:44:53.235251Z"
    }
   },
   "outputs": [],
   "source": [
    "X = data.iloc[:,data.columns != \"data_label\"] \n",
    "y = data.iloc[:,data.columns == \"data_label\"]\n",
    "\n",
    "# Split train/test data\n",
    "X_train, X_test, y_train, y_test = train_test_split(X, y, random_state=42, train_size=0.7) #, stratify=y)"
   ]
  },
  {
   "cell_type": "code",
   "execution_count": 19,
   "metadata": {
    "ExecuteTime": {
     "end_time": "2020-03-31T01:45:08.269232Z",
     "start_time": "2020-03-31T01:45:08.266720Z"
    }
   },
   "outputs": [],
   "source": [
    "# X = data.iloc[:,data.columns != \"data_label\"] \n",
    "# y = data.iloc[:,data.columns == \"data_label\"]\n",
    "\n",
    "# # Split train/test data\n",
    "# X_train, X_test, y_train, y_test = train_test_split(X, y, random_state=42, train_size=0.7, stratify=y)"
   ]
  },
  {
   "cell_type": "code",
   "execution_count": 12,
   "metadata": {},
   "outputs": [],
   "source": [
    "# # Reindex\n",
    "# for i in [X_train, X_test, Y_train, Y_test]:\n",
    "#     i.index = range(i.shape[0])"
   ]
  },
  {
   "cell_type": "markdown",
   "metadata": {},
   "source": [
    "### 2.2 - Random Forest test\n",
    "https://scikit-learn.org/stable/modules/generated/sklearn.ensemble.RandomForestClassifier.html"
   ]
  },
  {
   "cell_type": "code",
   "execution_count": 20,
   "metadata": {
    "ExecuteTime": {
     "end_time": "2020-03-31T01:46:35.810385Z",
     "start_time": "2020-03-31T01:45:27.282443Z"
    }
   },
   "outputs": [
    {
     "name": "stderr",
     "output_type": "stream",
     "text": [
      "/opt/anaconda3/lib/python3.7/site-packages/ipykernel_launcher.py:5: DataConversionWarning: A column-vector y was passed when a 1d array was expected. Please change the shape of y to (n_samples,), for example using ravel().\n",
      "  \"\"\"\n"
     ]
    },
    {
     "name": "stdout",
     "output_type": "stream",
     "text": [
      "CPU times: user 1min 8s, sys: 448 ms, total: 1min 8s\n",
      "Wall time: 1min 8s\n"
     ]
    },
    {
     "data": {
      "text/plain": [
       "RandomForestClassifier(bootstrap=True, class_weight=None, criterion='gini',\n",
       "                       max_depth=None, max_features='auto', max_leaf_nodes=None,\n",
       "                       min_impurity_decrease=0.0, min_impurity_split=None,\n",
       "                       min_samples_leaf=1, min_samples_split=2,\n",
       "                       min_weight_fraction_leaf=0.0, n_estimators=1000,\n",
       "                       n_jobs=None, oob_score=False, random_state=0, verbose=0,\n",
       "                       warm_start=False)"
      ]
     },
     "execution_count": 20,
     "metadata": {},
     "output_type": "execute_result"
    }
   ],
   "source": [
    "%%time\n",
    "\n",
    "# Establish random forest model\n",
    "rfc = RandomForestClassifier(n_estimators=1000, random_state=0)\n",
    "\n",
    "# Model training\n",
    "rfc.fit(X_train, y_train)"
   ]
  },
  {
   "cell_type": "code",
   "execution_count": 22,
   "metadata": {
    "ExecuteTime": {
     "end_time": "2020-03-31T01:46:45.592719Z",
     "start_time": "2020-03-31T01:46:45.103923Z"
    },
    "scrolled": false
   },
   "outputs": [
    {
     "name": "stdout",
     "output_type": "stream",
     "text": [
      "Accaccuracy: 0.47833333333333333\n",
      "Recall: 0.47833333333333333\n",
      "Specificity: 0.47833333333333333\n",
      "Balanced: 0.20764018796623418\n"
     ]
    },
    {
     "name": "stderr",
     "output_type": "stream",
     "text": [
      "/opt/anaconda3/lib/python3.7/site-packages/sklearn/metrics/classification.py:1259: UserWarning: Note that pos_label (set to 0) is ignored when average != 'binary' (got 'micro'). You may use labels=[pos_label] to specify a single positive class.\n",
      "  % (pos_label, average), UserWarning)\n"
     ]
    }
   ],
   "source": [
    "model_evaluation(rfc, X_test, y_test)"
   ]
  },
  {
   "cell_type": "code",
   "execution_count": null,
   "metadata": {},
   "outputs": [],
   "source": []
  },
  {
   "cell_type": "markdown",
   "metadata": {},
   "source": [
    "### 2.3 - XGB test\n",
    "https://xgboost.readthedocs.io/en/latest/python/python_api.html#module-xgboost.sklearn"
   ]
  },
  {
   "cell_type": "code",
   "execution_count": 15,
   "metadata": {
    "scrolled": false
   },
   "outputs": [
    {
     "name": "stderr",
     "output_type": "stream",
     "text": [
      "/opt/anaconda3/lib/python3.7/site-packages/sklearn/preprocessing/label.py:219: DataConversionWarning: A column-vector y was passed when a 1d array was expected. Please change the shape of y to (n_samples, ), for example using ravel().\n",
      "  y = column_or_1d(y, warn=True)\n",
      "/opt/anaconda3/lib/python3.7/site-packages/sklearn/preprocessing/label.py:252: DataConversionWarning: A column-vector y was passed when a 1d array was expected. Please change the shape of y to (n_samples, ), for example using ravel().\n",
      "  y = column_or_1d(y, warn=True)\n"
     ]
    },
    {
     "name": "stdout",
     "output_type": "stream",
     "text": [
      "CPU times: user 3h 2min 57s, sys: 2min 15s, total: 3h 5min 13s\n",
      "Wall time: 25min 1s\n"
     ]
    },
    {
     "data": {
      "text/plain": [
       "XGBClassifier(base_score=0.5, booster=None, colsample_bylevel=1,\n",
       "              colsample_bynode=1, colsample_bytree=1, gamma=0, gpu_id=-1,\n",
       "              importance_type='gain', interaction_constraints=None,\n",
       "              learning_rate=0.300000012, max_delta_step=0, max_depth=6,\n",
       "              min_child_weight=1, missing=nan, monotone_constraints=None,\n",
       "              n_estimators=100, n_jobs=0, num_parallel_tree=1,\n",
       "              objective='multi:softprob', random_state=0, reg_alpha=0,\n",
       "              reg_lambda=1, scale_pos_weight=None, silent=True, subsample=1,\n",
       "              tree_method=None, validate_parameters=False, verbosity=None)"
      ]
     },
     "execution_count": 15,
     "metadata": {},
     "output_type": "execute_result"
    }
   ],
   "source": [
    "%%time\n",
    "\n",
    "params = {'silent': True, 'n_estimators': 100, 'objective': 'multi:softmax'}\n",
    "\n",
    "xgbc = XGBClassifier(**params)\n",
    "xgbc.fit(X_train,y_train,eval_metric='auc')\n",
    "\n",
    "# Wall time: 21min 37s"
   ]
  },
  {
   "cell_type": "code",
   "execution_count": 18,
   "metadata": {},
   "outputs": [
    {
     "name": "stdout",
     "output_type": "stream",
     "text": [
      "Accaccuracy: 0.72\n",
      "Recall: 0.72\n",
      "Specificity: 0.72\n",
      "Balanced: 0.5414963052854933\n"
     ]
    }
   ],
   "source": [
    "model_evaluation(xgbc, X_test, y_test)"
   ]
  },
  {
   "cell_type": "markdown",
   "metadata": {},
   "source": [
    "## Test TF-IDF"
   ]
  },
  {
   "cell_type": "code",
   "execution_count": 27,
   "metadata": {
    "ExecuteTime": {
     "end_time": "2020-03-31T02:37:53.293110Z",
     "start_time": "2020-03-31T02:37:53.284382Z"
    }
   },
   "outputs": [
    {
     "data": {
      "text/html": [
       "<div>\n",
       "<style scoped>\n",
       "    .dataframe tbody tr th:only-of-type {\n",
       "        vertical-align: middle;\n",
       "    }\n",
       "\n",
       "    .dataframe tbody tr th {\n",
       "        vertical-align: top;\n",
       "    }\n",
       "\n",
       "    .dataframe thead th {\n",
       "        text-align: right;\n",
       "    }\n",
       "</style>\n",
       "<table border=\"1\" class=\"dataframe\">\n",
       "  <thead>\n",
       "    <tr style=\"text-align: right;\">\n",
       "      <th></th>\n",
       "      <th>Code</th>\n",
       "      <th>jd</th>\n",
       "    </tr>\n",
       "  </thead>\n",
       "  <tbody>\n",
       "    <tr>\n",
       "      <th>0</th>\n",
       "      <td>APM010</td>\n",
       "      <td>Savi Technologies Inc. is seeking Sr. IT Proje...</td>\n",
       "    </tr>\n",
       "    <tr>\n",
       "      <th>1</th>\n",
       "      <td>APM010</td>\n",
       "      <td>Are you inspired by “what’s next”? So are we.W...</td>\n",
       "    </tr>\n",
       "    <tr>\n",
       "      <th>2</th>\n",
       "      <td>APM010</td>\n",
       "      <td>I. Position DescriptionThis position is respon...</td>\n",
       "    </tr>\n",
       "    <tr>\n",
       "      <th>3</th>\n",
       "      <td>APM010</td>\n",
       "      <td>Job DetailsJob CodeJPSC-6965Posted Date03/08/1...</td>\n",
       "    </tr>\n",
       "    <tr>\n",
       "      <th>4</th>\n",
       "      <td>APM010</td>\n",
       "      <td>Position Summary:This person will perform Proj...</td>\n",
       "    </tr>\n",
       "    <tr>\n",
       "      <th>...</th>\n",
       "      <td>...</td>\n",
       "      <td>...</td>\n",
       "    </tr>\n",
       "    <tr>\n",
       "      <th>1995</th>\n",
       "      <td>AFB000</td>\n",
       "      <td>Provides financial analytical support by colle...</td>\n",
       "    </tr>\n",
       "    <tr>\n",
       "      <th>1996</th>\n",
       "      <td>AFB000</td>\n",
       "      <td>KION North America is part of the KION Group, ...</td>\n",
       "    </tr>\n",
       "    <tr>\n",
       "      <th>1997</th>\n",
       "      <td>AFB000</td>\n",
       "      <td>Who We Are:Pulse Films is an award-winning, in...</td>\n",
       "    </tr>\n",
       "    <tr>\n",
       "      <th>1998</th>\n",
       "      <td>AFB000</td>\n",
       "      <td>Overview:ERP International, LLC (www.erpintern...</td>\n",
       "    </tr>\n",
       "    <tr>\n",
       "      <th>1999</th>\n",
       "      <td>AFB000</td>\n",
       "      <td>Staff AccountantEmployment Type: Location: Com...</td>\n",
       "    </tr>\n",
       "  </tbody>\n",
       "</table>\n",
       "<p>2000 rows × 2 columns</p>\n",
       "</div>"
      ],
      "text/plain": [
       "        Code                                                 jd\n",
       "0     APM010  Savi Technologies Inc. is seeking Sr. IT Proje...\n",
       "1     APM010  Are you inspired by “what’s next”? So are we.W...\n",
       "2     APM010  I. Position DescriptionThis position is respon...\n",
       "3     APM010  Job DetailsJob CodeJPSC-6965Posted Date03/08/1...\n",
       "4     APM010  Position Summary:This person will perform Proj...\n",
       "...      ...                                                ...\n",
       "1995  AFB000  Provides financial analytical support by colle...\n",
       "1996  AFB000  KION North America is part of the KION Group, ...\n",
       "1997  AFB000  Who We Are:Pulse Films is an award-winning, in...\n",
       "1998  AFB000  Overview:ERP International, LLC (www.erpintern...\n",
       "1999  AFB000  Staff AccountantEmployment Type: Location: Com...\n",
       "\n",
       "[2000 rows x 2 columns]"
      ]
     },
     "execution_count": 27,
     "metadata": {},
     "output_type": "execute_result"
    }
   ],
   "source": [
    "all_data"
   ]
  },
  {
   "cell_type": "code",
   "execution_count": 28,
   "metadata": {
    "ExecuteTime": {
     "end_time": "2020-03-31T02:39:19.401887Z",
     "start_time": "2020-03-31T02:39:18.560080Z"
    }
   },
   "outputs": [
    {
     "name": "stderr",
     "output_type": "stream",
     "text": [
      "/opt/anaconda3/lib/python3.7/site-packages/sklearn/feature_extraction/text.py:300: UserWarning: Your stop_words may be inconsistent with your preprocessing. Tokenizing the stop words generated tokens ['ain', 'al', 'couldn', 'didn', 'doesn', 'don', 'hadn', 'hasn', 'haven', 'isn', 'll', 'mon', 'shouldn', 've', 'wasn', 'weren', 'won', 'wouldn'] not in stop_words.\n",
      "  'stop_words.' % sorted(inconsistent))\n"
     ]
    },
    {
     "data": {
      "text/plain": [
       "<2000x35426 sparse matrix of type '<class 'numpy.float64'>'\n",
       "\twith 404250 stored elements in Compressed Sparse Row format>"
      ]
     },
     "execution_count": 28,
     "metadata": {},
     "output_type": "execute_result"
    }
   ],
   "source": [
    "tv = TfidfVectorizer(analyzer='word', stop_words=stopwords)\n",
    "tv_fit = tv.fit_transform(all_data.jd)\n",
    "tv_fit\n",
    "\n",
    "# tv_fit.toarray()\n",
    "# type(tv_fit)"
   ]
  },
  {
   "cell_type": "code",
   "execution_count": 34,
   "metadata": {
    "ExecuteTime": {
     "end_time": "2020-03-31T02:58:26.095388Z",
     "start_time": "2020-03-31T02:58:26.092837Z"
    },
    "scrolled": false
   },
   "outputs": [],
   "source": [
    "# tv.get_feature_names()"
   ]
  },
  {
   "cell_type": "code",
   "execution_count": 30,
   "metadata": {
    "ExecuteTime": {
     "end_time": "2020-03-31T02:43:09.686285Z",
     "start_time": "2020-03-31T02:43:09.583996Z"
    }
   },
   "outputs": [],
   "source": [
    "tv_X = tv_fit\n",
    "tv_y = all_data.Code\n",
    "\n",
    "# Split train/test data\n",
    "X_train, X_test, y_train, y_test = train_test_split(tv_X, tv_y, random_state=42, train_size=0.7) #, stratify=y)"
   ]
  },
  {
   "cell_type": "code",
   "execution_count": 31,
   "metadata": {
    "ExecuteTime": {
     "end_time": "2020-03-31T02:43:37.525738Z",
     "start_time": "2020-03-31T02:43:10.991315Z"
    }
   },
   "outputs": [
    {
     "name": "stdout",
     "output_type": "stream",
     "text": [
      "CPU times: user 26.2 s, sys: 293 ms, total: 26.5 s\n",
      "Wall time: 26.5 s\n"
     ]
    },
    {
     "data": {
      "text/plain": [
       "RandomForestClassifier(bootstrap=True, class_weight=None, criterion='gini',\n",
       "                       max_depth=None, max_features='auto', max_leaf_nodes=None,\n",
       "                       min_impurity_decrease=0.0, min_impurity_split=None,\n",
       "                       min_samples_leaf=1, min_samples_split=2,\n",
       "                       min_weight_fraction_leaf=0.0, n_estimators=1000,\n",
       "                       n_jobs=None, oob_score=False, random_state=0, verbose=0,\n",
       "                       warm_start=False)"
      ]
     },
     "execution_count": 31,
     "metadata": {},
     "output_type": "execute_result"
    }
   ],
   "source": [
    "%%time\n",
    "\n",
    "# Establish random forest model\n",
    "tv_rfc = RandomForestClassifier(n_estimators=1000, random_state=0)\n",
    "\n",
    "# Model training\n",
    "tv_rfc.fit(X_train, y_train)"
   ]
  },
  {
   "cell_type": "code",
   "execution_count": 32,
   "metadata": {
    "ExecuteTime": {
     "end_time": "2020-03-31T02:43:44.622549Z",
     "start_time": "2020-03-31T02:43:43.700743Z"
    }
   },
   "outputs": [
    {
     "name": "stdout",
     "output_type": "stream",
     "text": [
      "Accaccuracy: 0.4866666666666667\n",
      "Recall: 0.4866666666666667\n",
      "Specificity: 0.4866666666666667\n",
      "Balanced: 0.19293152003352773\n"
     ]
    },
    {
     "name": "stderr",
     "output_type": "stream",
     "text": [
      "/opt/anaconda3/lib/python3.7/site-packages/sklearn/metrics/classification.py:1259: UserWarning: Note that pos_label (set to 0) is ignored when average != 'binary' (got 'micro'). You may use labels=[pos_label] to specify a single positive class.\n",
      "  % (pos_label, average), UserWarning)\n"
     ]
    }
   ],
   "source": [
    "model_evaluation(tv_rfc, X_test, y_test)"
   ]
  },
  {
   "cell_type": "code",
   "execution_count": null,
   "metadata": {},
   "outputs": [],
   "source": []
  }
 ],
 "metadata": {
  "kernelspec": {
   "display_name": "Python 3",
   "language": "python",
   "name": "python3"
  },
  "language_info": {
   "codemirror_mode": {
    "name": "ipython",
    "version": 3
   },
   "file_extension": ".py",
   "mimetype": "text/x-python",
   "name": "python",
   "nbconvert_exporter": "python",
   "pygments_lexer": "ipython3",
   "version": "3.7.4"
  },
  "toc": {
   "base_numbering": 1,
   "nav_menu": {},
   "number_sections": false,
   "sideBar": true,
   "skip_h1_title": false,
   "title_cell": "Table of Contents",
   "title_sidebar": "Contents",
   "toc_cell": false,
   "toc_position": {
    "height": "calc(100% - 180px)",
    "left": "10px",
    "top": "150px",
    "width": "165px"
   },
   "toc_section_display": true,
   "toc_window_display": true
  },
  "varInspector": {
   "cols": {
    "lenName": 16,
    "lenType": 16,
    "lenVar": 40
   },
   "kernels_config": {
    "python": {
     "delete_cmd_postfix": "",
     "delete_cmd_prefix": "del ",
     "library": "var_list.py",
     "varRefreshCmd": "print(var_dic_list())"
    },
    "r": {
     "delete_cmd_postfix": ") ",
     "delete_cmd_prefix": "rm(",
     "library": "var_list.r",
     "varRefreshCmd": "cat(var_dic_list()) "
    }
   },
   "types_to_exclude": [
    "module",
    "function",
    "builtin_function_or_method",
    "instance",
    "_Feature"
   ],
   "window_display": false
  }
 },
 "nbformat": 4,
 "nbformat_minor": 2
}
