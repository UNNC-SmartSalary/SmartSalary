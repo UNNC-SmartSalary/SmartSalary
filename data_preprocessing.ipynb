{
 "cells": [
  {
   "cell_type": "markdown",
   "metadata": {},
   "source": [
    "# Data Preprocessing"
   ]
  },
  {
   "cell_type": "markdown",
   "metadata": {},
   "source": [
    "## 1 - Basic Analysis"
   ]
  },
  {
   "cell_type": "markdown",
   "metadata": {},
   "source": [
    "### 1.1 - Import Packages"
   ]
  },
  {
   "cell_type": "code",
   "execution_count": 1,
   "metadata": {
    "ExecuteTime": {
     "end_time": "2020-04-01T14:42:24.982797Z",
     "start_time": "2020-04-01T14:42:24.613896Z"
    }
   },
   "outputs": [],
   "source": [
    "import pandas as pd"
   ]
  },
  {
   "cell_type": "markdown",
   "metadata": {},
   "source": [
    "### 1.2 - Reading Data"
   ]
  },
  {
   "cell_type": "code",
   "execution_count": 19,
   "metadata": {
    "ExecuteTime": {
     "end_time": "2020-04-01T15:16:27.642882Z",
     "start_time": "2020-04-01T15:16:26.017292Z"
    }
   },
   "outputs": [
    {
     "data": {
      "text/html": [
       "<div>\n",
       "<style scoped>\n",
       "    .dataframe tbody tr th:only-of-type {\n",
       "        vertical-align: middle;\n",
       "    }\n",
       "\n",
       "    .dataframe tbody tr th {\n",
       "        vertical-align: top;\n",
       "    }\n",
       "\n",
       "    .dataframe thead th {\n",
       "        text-align: right;\n",
       "    }\n",
       "</style>\n",
       "<table border=\"1\" class=\"dataframe\">\n",
       "  <thead>\n",
       "    <tr style=\"text-align: right;\">\n",
       "      <th></th>\n",
       "      <th>Type</th>\n",
       "      <th>Code</th>\n",
       "      <th>fun1_code</th>\n",
       "      <th>fun2_code</th>\n",
       "      <th>jobname_ch</th>\n",
       "      <th>jobname_en</th>\n",
       "      <th>id</th>\n",
       "      <th>coname</th>\n",
       "      <th>poname</th>\n",
       "      <th>jd</th>\n",
       "      <th>source</th>\n",
       "    </tr>\n",
       "  </thead>\n",
       "  <tbody>\n",
       "    <tr>\n",
       "      <th>0</th>\n",
       "      <td>FUN</td>\n",
       "      <td>BRO</td>\n",
       "      <td>BRO</td>\n",
       "      <td>BRO</td>\n",
       "      <td>商业研究</td>\n",
       "      <td>Business Research</td>\n",
       "      <td>279011</td>\n",
       "      <td>Aldevron</td>\n",
       "      <td>Strategic Account Manager, Nucleic Acids Busin...</td>\n",
       "      <td>\\n\\nWe are currently seeking a Strategic Accou...</td>\n",
       "      <td>monster</td>\n",
       "    </tr>\n",
       "    <tr>\n",
       "      <th>1</th>\n",
       "      <td>FUN</td>\n",
       "      <td>BRO</td>\n",
       "      <td>BRO</td>\n",
       "      <td>BRO</td>\n",
       "      <td>商业研究</td>\n",
       "      <td>Business Research</td>\n",
       "      <td>287601</td>\n",
       "      <td>Synergy America</td>\n",
       "      <td>IT Business Analyst</td>\n",
       "      <td>\\n\\nWe are looking for an IT Business Analyst ...</td>\n",
       "      <td>monster</td>\n",
       "    </tr>\n",
       "    <tr>\n",
       "      <th>2</th>\n",
       "      <td>FUN</td>\n",
       "      <td>BRO</td>\n",
       "      <td>BRO</td>\n",
       "      <td>BRO</td>\n",
       "      <td>商业研究</td>\n",
       "      <td>Business Research</td>\n",
       "      <td>340361</td>\n",
       "      <td>A3 Smart Home</td>\n",
       "      <td>Sr. Business Analyst</td>\n",
       "      <td>\\n\\nWe call our club's vision, mission, values...</td>\n",
       "      <td>monster</td>\n",
       "    </tr>\n",
       "  </tbody>\n",
       "</table>\n",
       "</div>"
      ],
      "text/plain": [
       "  Type Code fun1_code fun2_code jobname_ch         jobname_en      id  \\\n",
       "0  FUN  BRO       BRO       BRO       商业研究  Business Research  279011   \n",
       "1  FUN  BRO       BRO       BRO       商业研究  Business Research  287601   \n",
       "2  FUN  BRO       BRO       BRO       商业研究  Business Research  340361   \n",
       "\n",
       "            coname                                             poname  \\\n",
       "0         Aldevron  Strategic Account Manager, Nucleic Acids Busin...   \n",
       "1  Synergy America                                IT Business Analyst   \n",
       "2    A3 Smart Home                               Sr. Business Analyst   \n",
       "\n",
       "                                                  jd   source  \n",
       "0  \\n\\nWe are currently seeking a Strategic Accou...  monster  \n",
       "1  \\n\\nWe are looking for an IT Business Analyst ...  monster  \n",
       "2  \\n\\nWe call our club's vision, mission, values...  monster  "
      ]
     },
     "execution_count": 19,
     "metadata": {},
     "output_type": "execute_result"
    }
   ],
   "source": [
    "# Read data from local pathway\n",
    "\n",
    "project_path = \"/Users/apple/Documents/Xinzhi/Data/\"\n",
    "data = pd.read_csv(project_path + \"meta_training_data_jd_0401.csv\")\n",
    "\n",
    "data.head(3)"
   ]
  },
  {
   "cell_type": "markdown",
   "metadata": {},
   "source": [
    "### 1.3 - Data Exploration"
   ]
  },
  {
   "cell_type": "code",
   "execution_count": 16,
   "metadata": {
    "ExecuteTime": {
     "end_time": "2020-04-01T15:14:31.198011Z",
     "start_time": "2020-04-01T15:14:31.189179Z"
    }
   },
   "outputs": [
    {
     "name": "stdout",
     "output_type": "stream",
     "text": [
      "The number of tier 1 job title:  97\n",
      "The number of tier 2 job title:  709\n"
     ]
    }
   ],
   "source": [
    "print(\"The number of tier 1 job title: \", len(data.fun1_code.unique()))\n",
    "print(\"The number of tier 2 job title: \", len(data.Code.unique()))"
   ]
  },
  {
   "cell_type": "code",
   "execution_count": null,
   "metadata": {},
   "outputs": [],
   "source": []
  }
 ],
 "metadata": {
  "kernelspec": {
   "display_name": "Python 3",
   "language": "python",
   "name": "python3"
  },
  "language_info": {
   "codemirror_mode": {
    "name": "ipython",
    "version": 3
   },
   "file_extension": ".py",
   "mimetype": "text/x-python",
   "name": "python",
   "nbconvert_exporter": "python",
   "pygments_lexer": "ipython3",
   "version": "3.7.4"
  },
  "toc": {
   "base_numbering": 1,
   "nav_menu": {},
   "number_sections": false,
   "sideBar": true,
   "skip_h1_title": false,
   "title_cell": "Table of Contents",
   "title_sidebar": "Contents",
   "toc_cell": false,
   "toc_position": {},
   "toc_section_display": true,
   "toc_window_display": true
  },
  "varInspector": {
   "cols": {
    "lenName": 16,
    "lenType": 16,
    "lenVar": 40
   },
   "kernels_config": {
    "python": {
     "delete_cmd_postfix": "",
     "delete_cmd_prefix": "del ",
     "library": "var_list.py",
     "varRefreshCmd": "print(var_dic_list())"
    },
    "r": {
     "delete_cmd_postfix": ") ",
     "delete_cmd_prefix": "rm(",
     "library": "var_list.r",
     "varRefreshCmd": "cat(var_dic_list()) "
    }
   },
   "types_to_exclude": [
    "module",
    "function",
    "builtin_function_or_method",
    "instance",
    "_Feature"
   ],
   "window_display": false
  }
 },
 "nbformat": 4,
 "nbformat_minor": 2
}
