{
 "cells": [
  {
   "cell_type": "markdown",
   "metadata": {},
   "source": [
    "# Data Preprocessing"
   ]
  },
  {
   "cell_type": "markdown",
   "metadata": {},
   "source": [
    "## 1 - Basic Analysis"
   ]
  },
  {
   "cell_type": "markdown",
   "metadata": {},
   "source": [
    "### 1.1 - Import Packages"
   ]
  },
  {
   "cell_type": "code",
   "execution_count": 32,
   "metadata": {
    "ExecuteTime": {
     "end_time": "2020-04-04T14:00:08.802298Z",
     "start_time": "2020-04-04T14:00:07.854697Z"
    }
   },
   "outputs": [],
   "source": [
    "import pandas as pd\n",
    "\n",
    "# import tensorflow as tf\n",
    "# from tensor flow import keras\n",
    "from nltk.stem import PorterStemmer\n",
    "from tensorflow.keras.preprocessing.text import text_to_word_sequence\n",
    "from tensorflow.keras.preprocessing.text import Tokenizer"
   ]
  },
  {
   "cell_type": "markdown",
   "metadata": {},
   "source": [
    "### 1.2 - Reading Data"
   ]
  },
  {
   "cell_type": "code",
   "execution_count": 2,
   "metadata": {
    "ExecuteTime": {
     "end_time": "2020-04-04T12:05:38.155750Z",
     "start_time": "2020-04-04T12:05:36.505012Z"
    },
    "scrolled": true
   },
   "outputs": [
    {
     "data": {
      "text/html": [
       "<div>\n",
       "<style scoped>\n",
       "    .dataframe tbody tr th:only-of-type {\n",
       "        vertical-align: middle;\n",
       "    }\n",
       "\n",
       "    .dataframe tbody tr th {\n",
       "        vertical-align: top;\n",
       "    }\n",
       "\n",
       "    .dataframe thead th {\n",
       "        text-align: right;\n",
       "    }\n",
       "</style>\n",
       "<table border=\"1\" class=\"dataframe\">\n",
       "  <thead>\n",
       "    <tr style=\"text-align: right;\">\n",
       "      <th></th>\n",
       "      <th>Type</th>\n",
       "      <th>Code</th>\n",
       "      <th>fun1_code</th>\n",
       "      <th>fun2_code</th>\n",
       "      <th>jobname_ch</th>\n",
       "      <th>jobname_en</th>\n",
       "      <th>id</th>\n",
       "      <th>coname</th>\n",
       "      <th>poname</th>\n",
       "      <th>jd</th>\n",
       "      <th>source</th>\n",
       "    </tr>\n",
       "  </thead>\n",
       "  <tbody>\n",
       "    <tr>\n",
       "      <th>0</th>\n",
       "      <td>FUN</td>\n",
       "      <td>BRO</td>\n",
       "      <td>BRO</td>\n",
       "      <td>BRO</td>\n",
       "      <td>商业研究</td>\n",
       "      <td>Business Research</td>\n",
       "      <td>279011</td>\n",
       "      <td>Aldevron</td>\n",
       "      <td>Strategic Account Manager, Nucleic Acids Busin...</td>\n",
       "      <td>\\n\\nWe are currently seeking a Strategic Accou...</td>\n",
       "      <td>monster</td>\n",
       "    </tr>\n",
       "    <tr>\n",
       "      <th>1</th>\n",
       "      <td>FUN</td>\n",
       "      <td>BRO</td>\n",
       "      <td>BRO</td>\n",
       "      <td>BRO</td>\n",
       "      <td>商业研究</td>\n",
       "      <td>Business Research</td>\n",
       "      <td>287601</td>\n",
       "      <td>Synergy America</td>\n",
       "      <td>IT Business Analyst</td>\n",
       "      <td>\\n\\nWe are looking for an IT Business Analyst ...</td>\n",
       "      <td>monster</td>\n",
       "    </tr>\n",
       "    <tr>\n",
       "      <th>2</th>\n",
       "      <td>FUN</td>\n",
       "      <td>BRO</td>\n",
       "      <td>BRO</td>\n",
       "      <td>BRO</td>\n",
       "      <td>商业研究</td>\n",
       "      <td>Business Research</td>\n",
       "      <td>340361</td>\n",
       "      <td>A3 Smart Home</td>\n",
       "      <td>Sr. Business Analyst</td>\n",
       "      <td>\\n\\nWe call our club's vision, mission, values...</td>\n",
       "      <td>monster</td>\n",
       "    </tr>\n",
       "  </tbody>\n",
       "</table>\n",
       "</div>"
      ],
      "text/plain": [
       "  Type Code fun1_code fun2_code jobname_ch         jobname_en      id  \\\n",
       "0  FUN  BRO       BRO       BRO       商业研究  Business Research  279011   \n",
       "1  FUN  BRO       BRO       BRO       商业研究  Business Research  287601   \n",
       "2  FUN  BRO       BRO       BRO       商业研究  Business Research  340361   \n",
       "\n",
       "            coname                                             poname  \\\n",
       "0         Aldevron  Strategic Account Manager, Nucleic Acids Busin...   \n",
       "1  Synergy America                                IT Business Analyst   \n",
       "2    A3 Smart Home                               Sr. Business Analyst   \n",
       "\n",
       "                                                  jd   source  \n",
       "0  \\n\\nWe are currently seeking a Strategic Accou...  monster  \n",
       "1  \\n\\nWe are looking for an IT Business Analyst ...  monster  \n",
       "2  \\n\\nWe call our club's vision, mission, values...  monster  "
      ]
     },
     "execution_count": 2,
     "metadata": {},
     "output_type": "execute_result"
    }
   ],
   "source": [
    "# Read data from local pathway\n",
    "\n",
    "project_path = \"/Users/apple/Documents/Xinzhi/Data/\"\n",
    "data = pd.read_csv(project_path + \"meta_training_data_jd_0401.csv\")\n",
    "\n",
    "data.head(3)"
   ]
  },
  {
   "cell_type": "code",
   "execution_count": null,
   "metadata": {},
   "outputs": [],
   "source": []
  },
  {
   "cell_type": "markdown",
   "metadata": {},
   "source": [
    "### 1.3 - Data Exploration"
   ]
  },
  {
   "cell_type": "code",
   "execution_count": 3,
   "metadata": {
    "ExecuteTime": {
     "end_time": "2020-04-04T12:05:45.929345Z",
     "start_time": "2020-04-04T12:05:45.921299Z"
    }
   },
   "outputs": [
    {
     "name": "stdout",
     "output_type": "stream",
     "text": [
      "The number of tier 1 job title:  97\n",
      "The number of tier 2 job title:  709\n"
     ]
    }
   ],
   "source": [
    "print(\"The number of tier 1 job title: \", len(data.fun1_code.unique()))\n",
    "print(\"The number of tier 2 job title: \", len(data.Code.unique()))"
   ]
  },
  {
   "cell_type": "code",
   "execution_count": 4,
   "metadata": {
    "ExecuteTime": {
     "end_time": "2020-04-04T12:06:21.831614Z",
     "start_time": "2020-04-04T12:06:21.776700Z"
    }
   },
   "outputs": [
    {
     "data": {
      "text/html": [
       "<div>\n",
       "<style scoped>\n",
       "    .dataframe tbody tr th:only-of-type {\n",
       "        vertical-align: middle;\n",
       "    }\n",
       "\n",
       "    .dataframe tbody tr th {\n",
       "        vertical-align: top;\n",
       "    }\n",
       "\n",
       "    .dataframe thead th {\n",
       "        text-align: right;\n",
       "    }\n",
       "</style>\n",
       "<table border=\"1\" class=\"dataframe\">\n",
       "  <thead>\n",
       "    <tr style=\"text-align: right;\">\n",
       "      <th></th>\n",
       "      <th>Type</th>\n",
       "      <th>fun1_code</th>\n",
       "      <th>fun2_code</th>\n",
       "      <th>jobname_ch</th>\n",
       "      <th>jobname_en</th>\n",
       "      <th>id</th>\n",
       "      <th>coname</th>\n",
       "      <th>poname</th>\n",
       "      <th>jd</th>\n",
       "      <th>source</th>\n",
       "    </tr>\n",
       "    <tr>\n",
       "      <th>Code</th>\n",
       "      <th></th>\n",
       "      <th></th>\n",
       "      <th></th>\n",
       "      <th></th>\n",
       "      <th></th>\n",
       "      <th></th>\n",
       "      <th></th>\n",
       "      <th></th>\n",
       "      <th></th>\n",
       "      <th></th>\n",
       "    </tr>\n",
       "  </thead>\n",
       "  <tbody>\n",
       "    <tr>\n",
       "      <th>AFB080</th>\n",
       "      <td>1</td>\n",
       "      <td>1</td>\n",
       "      <td>1</td>\n",
       "      <td>1</td>\n",
       "      <td>1</td>\n",
       "      <td>1</td>\n",
       "      <td>1</td>\n",
       "      <td>1</td>\n",
       "      <td>1</td>\n",
       "      <td>1</td>\n",
       "    </tr>\n",
       "    <tr>\n",
       "      <th>AFY660</th>\n",
       "      <td>1</td>\n",
       "      <td>1</td>\n",
       "      <td>1</td>\n",
       "      <td>1</td>\n",
       "      <td>1</td>\n",
       "      <td>1</td>\n",
       "      <td>1</td>\n",
       "      <td>1</td>\n",
       "      <td>1</td>\n",
       "      <td>1</td>\n",
       "    </tr>\n",
       "    <tr>\n",
       "      <th>AHR165</th>\n",
       "      <td>1</td>\n",
       "      <td>1</td>\n",
       "      <td>1</td>\n",
       "      <td>1</td>\n",
       "      <td>1</td>\n",
       "      <td>1</td>\n",
       "      <td>1</td>\n",
       "      <td>1</td>\n",
       "      <td>1</td>\n",
       "      <td>1</td>\n",
       "    </tr>\n",
       "    <tr>\n",
       "      <th>AMS900</th>\n",
       "      <td>1</td>\n",
       "      <td>1</td>\n",
       "      <td>1</td>\n",
       "      <td>1</td>\n",
       "      <td>1</td>\n",
       "      <td>1</td>\n",
       "      <td>1</td>\n",
       "      <td>1</td>\n",
       "      <td>1</td>\n",
       "      <td>1</td>\n",
       "    </tr>\n",
       "    <tr>\n",
       "      <th>APM080</th>\n",
       "      <td>1</td>\n",
       "      <td>1</td>\n",
       "      <td>1</td>\n",
       "      <td>1</td>\n",
       "      <td>1</td>\n",
       "      <td>1</td>\n",
       "      <td>1</td>\n",
       "      <td>1</td>\n",
       "      <td>1</td>\n",
       "      <td>1</td>\n",
       "    </tr>\n",
       "    <tr>\n",
       "      <th>APM900</th>\n",
       "      <td>1</td>\n",
       "      <td>1</td>\n",
       "      <td>1</td>\n",
       "      <td>1</td>\n",
       "      <td>1</td>\n",
       "      <td>1</td>\n",
       "      <td>1</td>\n",
       "      <td>1</td>\n",
       "      <td>1</td>\n",
       "      <td>1</td>\n",
       "    </tr>\n",
       "    <tr>\n",
       "      <th>AVO060</th>\n",
       "      <td>1</td>\n",
       "      <td>1</td>\n",
       "      <td>1</td>\n",
       "      <td>1</td>\n",
       "      <td>1</td>\n",
       "      <td>1</td>\n",
       "      <td>1</td>\n",
       "      <td>1</td>\n",
       "      <td>1</td>\n",
       "      <td>1</td>\n",
       "    </tr>\n",
       "    <tr>\n",
       "      <th>BNV</th>\n",
       "      <td>1</td>\n",
       "      <td>1</td>\n",
       "      <td>1</td>\n",
       "      <td>1</td>\n",
       "      <td>1</td>\n",
       "      <td>1</td>\n",
       "      <td>1</td>\n",
       "      <td>1</td>\n",
       "      <td>1</td>\n",
       "      <td>1</td>\n",
       "    </tr>\n",
       "    <tr>\n",
       "      <th>YHF020</th>\n",
       "      <td>1</td>\n",
       "      <td>1</td>\n",
       "      <td>1</td>\n",
       "      <td>1</td>\n",
       "      <td>1</td>\n",
       "      <td>1</td>\n",
       "      <td>1</td>\n",
       "      <td>1</td>\n",
       "      <td>1</td>\n",
       "      <td>1</td>\n",
       "    </tr>\n",
       "  </tbody>\n",
       "</table>\n",
       "</div>"
      ],
      "text/plain": [
       "        Type  fun1_code  fun2_code  jobname_ch  jobname_en  id  coname  \\\n",
       "Code                                                                     \n",
       "AFB080     1          1          1           1           1   1       1   \n",
       "AFY660     1          1          1           1           1   1       1   \n",
       "AHR165     1          1          1           1           1   1       1   \n",
       "AMS900     1          1          1           1           1   1       1   \n",
       "APM080     1          1          1           1           1   1       1   \n",
       "APM900     1          1          1           1           1   1       1   \n",
       "AVO060     1          1          1           1           1   1       1   \n",
       "BNV        1          1          1           1           1   1       1   \n",
       "YHF020     1          1          1           1           1   1       1   \n",
       "\n",
       "        poname  jd  source  \n",
       "Code                        \n",
       "AFB080       1   1       1  \n",
       "AFY660       1   1       1  \n",
       "AHR165       1   1       1  \n",
       "AMS900       1   1       1  \n",
       "APM080       1   1       1  \n",
       "APM900       1   1       1  \n",
       "AVO060       1   1       1  \n",
       "BNV          1   1       1  \n",
       "YHF020       1   1       1  "
      ]
     },
     "execution_count": 4,
     "metadata": {},
     "output_type": "execute_result"
    }
   ],
   "source": [
    "# Class 'Code' that only have 1 instance\n",
    "jd_count = data.groupby('Code').count()\n",
    "jd_count[jd_count['jd']==1]"
   ]
  },
  {
   "cell_type": "code",
   "execution_count": 5,
   "metadata": {
    "ExecuteTime": {
     "end_time": "2020-04-04T12:06:25.236801Z",
     "start_time": "2020-04-04T12:06:25.231417Z"
    }
   },
   "outputs": [],
   "source": [
    "jd_list = data.jd.tolist()"
   ]
  },
  {
   "cell_type": "code",
   "execution_count": null,
   "metadata": {},
   "outputs": [],
   "source": []
  },
  {
   "cell_type": "markdown",
   "metadata": {},
   "source": [
    "### 1.4 - Test  `text_to_word_sequence`"
   ]
  },
  {
   "cell_type": "code",
   "execution_count": 18,
   "metadata": {
    "ExecuteTime": {
     "end_time": "2020-04-04T12:16:01.297254Z",
     "start_time": "2020-04-04T12:16:01.294211Z"
    }
   },
   "outputs": [],
   "source": [
    "test1 = data.jd[20698]\n",
    "# test1"
   ]
  },
  {
   "cell_type": "code",
   "execution_count": 19,
   "metadata": {
    "ExecuteTime": {
     "end_time": "2020-04-04T12:16:11.987561Z",
     "start_time": "2020-04-04T12:16:11.983931Z"
    }
   },
   "outputs": [],
   "source": [
    "test1_seq = text_to_word_sequence(test1)"
   ]
  },
  {
   "cell_type": "code",
   "execution_count": 20,
   "metadata": {
    "ExecuteTime": {
     "end_time": "2020-04-04T12:17:50.485658Z",
     "start_time": "2020-04-04T12:17:50.482876Z"
    }
   },
   "outputs": [],
   "source": [
    "tttk = Tokenizer()"
   ]
  },
  {
   "cell_type": "code",
   "execution_count": 21,
   "metadata": {
    "ExecuteTime": {
     "end_time": "2020-04-04T12:18:14.255349Z",
     "start_time": "2020-04-04T12:18:14.250832Z"
    }
   },
   "outputs": [],
   "source": [
    "tttk.fit_on_sequences(test1_seq)"
   ]
  },
  {
   "cell_type": "code",
   "execution_count": 23,
   "metadata": {
    "ExecuteTime": {
     "end_time": "2020-04-04T12:18:54.534719Z",
     "start_time": "2020-04-04T12:18:54.530726Z"
    }
   },
   "outputs": [
    {
     "data": {
      "text/plain": [
       "1167"
      ]
     },
     "execution_count": 23,
     "metadata": {},
     "output_type": "execute_result"
    }
   ],
   "source": [
    "tttk.document_count"
   ]
  },
  {
   "cell_type": "code",
   "execution_count": 26,
   "metadata": {
    "ExecuteTime": {
     "end_time": "2020-04-04T13:26:13.209086Z",
     "start_time": "2020-04-04T13:26:13.204660Z"
    }
   },
   "outputs": [],
   "source": [
    "new_sep = []\n",
    "for i in test_text:\n",
    "    new_sep.append(text_to_word_sequence(i))"
   ]
  },
  {
   "cell_type": "code",
   "execution_count": 29,
   "metadata": {
    "ExecuteTime": {
     "end_time": "2020-04-04T13:27:33.966206Z",
     "start_time": "2020-04-04T13:27:33.961639Z"
    }
   },
   "outputs": [],
   "source": [
    "test1_tk = TextTokenizer(new_sep)"
   ]
  },
  {
   "cell_type": "code",
   "execution_count": 31,
   "metadata": {
    "ExecuteTime": {
     "end_time": "2020-04-04T13:28:39.243954Z",
     "start_time": "2020-04-04T13:28:39.241316Z"
    }
   },
   "outputs": [],
   "source": [
    "# test1_tk.tokenizer.word_index"
   ]
  },
  {
   "cell_type": "markdown",
   "metadata": {},
   "source": [
    "### 1.5 - Test Keras Tokenizer"
   ]
  },
  {
   "cell_type": "code",
   "execution_count": 28,
   "metadata": {
    "ExecuteTime": {
     "end_time": "2020-04-04T13:27:04.148400Z",
     "start_time": "2020-04-04T13:27:04.139966Z"
    }
   },
   "outputs": [],
   "source": [
    "class TextTokenizer():\n",
    "    def __init__(self, texts=None):\n",
    "        self.texts = texts   \n",
    "        self.tokenizer = Tokenizer()\n",
    "        if texts is not None:\n",
    "            self.tokenizer.fit_on_texts(texts)\n",
    "            \n",
    "#         tokenizer.word_counts\n",
    "#         tokenizer.word_docs\n",
    "#         tokenizer.word_index\n",
    "#         tokenizer.document_count\n",
    "        \n",
    "    def train(self, train_text):\n",
    "        self.tokenizer.fit_on_texts(train_text)\n",
    "\n",
    "    def to_sequences(self, in_text=None):\n",
    "        if in_text is None:\n",
    "            return self.tokenizer.texts_to_sequences(self.texts)\n",
    "        else:\n",
    "            return self.tokenizer.texts_to_sequences(in_text)\n",
    "    \n",
    "    def max_length(self):\n",
    "        sequences = self.to_sequences()\n",
    "        lenth = []\n",
    "        for i in sequences:\n",
    "            lenth.append(len(i))\n",
    "        mx_lenth = max(lenth)\n",
    "        \n",
    "        print(lenth.index(mx_lenth), mx_lenth)\n",
    "    \n",
    "    \n",
    "    def max_length2(self):  \n",
    "        sequences = self.to_sequences()\n",
    "        lenth = 0\n",
    "        for i in sequences:\n",
    "            if len(i) > lenth:\n",
    "                lenth = len(i)\n",
    "                idx = sequences.index(i)\n",
    "            else:\n",
    "                continue\n",
    "\n",
    "        print(idx, lenth)\n",
    "    "
   ]
  },
  {
   "cell_type": "code",
   "execution_count": 57,
   "metadata": {
    "ExecuteTime": {
     "end_time": "2020-04-04T14:39:15.954381Z",
     "start_time": "2020-04-04T14:39:15.951157Z"
    },
    "scrolled": true
   },
   "outputs": [],
   "source": [
    "test_text = [data.jd[20698], data.jd[2069]]\n",
    "# test_text"
   ]
  },
  {
   "cell_type": "code",
   "execution_count": null,
   "metadata": {
    "ExecuteTime": {
     "end_time": "2020-04-04T04:56:00.232541Z",
     "start_time": "2020-04-04T04:56:00.226833Z"
    }
   },
   "outputs": [],
   "source": [
    "test_tk = TextTokenizer(test_text)"
   ]
  },
  {
   "cell_type": "code",
   "execution_count": null,
   "metadata": {
    "ExecuteTime": {
     "end_time": "2020-04-04T12:03:04.042297Z",
     "start_time": "2020-04-04T12:03:04.039676Z"
    },
    "scrolled": true
   },
   "outputs": [],
   "source": [
    "# print(test_tk.tokenizer.word_index)"
   ]
  },
  {
   "cell_type": "code",
   "execution_count": null,
   "metadata": {
    "ExecuteTime": {
     "end_time": "2020-04-04T12:03:19.608109Z",
     "start_time": "2020-04-04T12:03:19.605633Z"
    }
   },
   "outputs": [],
   "source": [
    "# print(test_tk.to_sequences())"
   ]
  },
  {
   "cell_type": "code",
   "execution_count": null,
   "metadata": {
    "ExecuteTime": {
     "end_time": "2020-04-04T05:05:52.991380Z",
     "start_time": "2020-04-04T05:05:52.986144Z"
    }
   },
   "outputs": [],
   "source": []
  },
  {
   "cell_type": "markdown",
   "metadata": {},
   "source": [
    "### Test JD"
   ]
  },
  {
   "cell_type": "code",
   "execution_count": 10,
   "metadata": {
    "ExecuteTime": {
     "end_time": "2020-04-04T12:09:45.223105Z",
     "start_time": "2020-04-04T12:09:10.821395Z"
    }
   },
   "outputs": [],
   "source": [
    "jd_tk = TextTokenizer(jd_list)"
   ]
  },
  {
   "cell_type": "code",
   "execution_count": 11,
   "metadata": {
    "ExecuteTime": {
     "end_time": "2020-04-04T12:10:20.046556Z",
     "start_time": "2020-04-04T12:09:51.771121Z"
    }
   },
   "outputs": [
    {
     "name": "stdout",
     "output_type": "stream",
     "text": [
      "45832 4219\n"
     ]
    }
   ],
   "source": [
    "jd_tk.max_length()\n",
    "\n",
    "# 45832 4219"
   ]
  },
  {
   "cell_type": "code",
   "execution_count": 12,
   "metadata": {
    "ExecuteTime": {
     "end_time": "2020-04-04T12:10:54.600928Z",
     "start_time": "2020-04-04T12:10:26.909995Z"
    }
   },
   "outputs": [
    {
     "name": "stdout",
     "output_type": "stream",
     "text": [
      "45832 4219\n"
     ]
    }
   ],
   "source": [
    "jd_tk.max_length2()\n",
    "\n",
    "# 45832 4219"
   ]
  },
  {
   "cell_type": "code",
   "execution_count": null,
   "metadata": {},
   "outputs": [],
   "source": []
  },
  {
   "cell_type": "markdown",
   "metadata": {},
   "source": [
    "## 2 - Cleaning"
   ]
  },
  {
   "cell_type": "code",
   "execution_count": 68,
   "metadata": {
    "ExecuteTime": {
     "end_time": "2020-04-04T14:56:39.186602Z",
     "start_time": "2020-04-04T14:56:39.183151Z"
    }
   },
   "outputs": [],
   "source": [
    "def segment_list(text_list):\n",
    "    result = []\n",
    "    for idx, text in enumerate(text_list):\n",
    "        result[idx] = text_to_word_sequence(text)\n",
    "    \n",
    "    return result"
   ]
  },
  {
   "cell_type": "code",
   "execution_count": 69,
   "metadata": {
    "ExecuteTime": {
     "end_time": "2020-04-04T14:56:56.206557Z",
     "start_time": "2020-04-04T14:56:56.202856Z"
    }
   },
   "outputs": [],
   "source": [
    "def stem_list(word_list):\n",
    "    result = []\n",
    "    ps = PorterStemmer()\n",
    "    for idx, word in enumerate(word_list):\n",
    "        result[idx] = ps.stem(word)\n",
    "    \n",
    "    return result"
   ]
  },
  {
   "cell_type": "code",
   "execution_count": 70,
   "metadata": {
    "ExecuteTime": {
     "end_time": "2020-04-04T14:57:13.417291Z",
     "start_time": "2020-04-04T14:57:13.414218Z"
    }
   },
   "outputs": [],
   "source": [
    "def stem_sequence(seq_list):\n",
    "    result = []\n",
    "    for idx, seq in enumerate(seq_list):\n",
    "        result[idx] = stem_list(seq)\n",
    "    \n",
    "    return result"
   ]
  },
  {
   "cell_type": "code",
   "execution_count": 63,
   "metadata": {
    "ExecuteTime": {
     "end_time": "2020-04-04T14:54:09.203612Z",
     "start_time": "2020-04-04T14:54:09.201535Z"
    }
   },
   "outputs": [],
   "source": [
    "# def stem_list(seq_list):\n",
    "#     ps = PorterStemmer()\n",
    "#     for seq in seq_list:\n",
    "#         for idx, word in enumerate(seq):\n",
    "#             seq[idx] = ps.stem(word)\n",
    "    \n",
    "#     return seq_list"
   ]
  },
  {
   "cell_type": "code",
   "execution_count": 60,
   "metadata": {
    "ExecuteTime": {
     "end_time": "2020-04-04T14:42:46.289400Z",
     "start_time": "2020-04-04T14:42:46.286207Z"
    }
   },
   "outputs": [],
   "source": [
    "def get_feature_count(text_list):\n",
    "    sl = segment_list(text_list)\n",
    "    tk = TextTokenizer(sl)\n",
    "    \n",
    "    return len(tk.tokenizer.word_counts)"
   ]
  },
  {
   "cell_type": "code",
   "execution_count": 71,
   "metadata": {
    "ExecuteTime": {
     "end_time": "2020-04-04T14:58:22.111774Z",
     "start_time": "2020-04-04T14:58:22.108335Z"
    }
   },
   "outputs": [],
   "source": [
    "def test_stem(text_list):\n",
    "    print(\"Before stem: \", get_feature_count(text_list))\n",
    "    stemmed = stem_sequence(text_list)\n",
    "    print(\"After stem: \", get_feature_count(stemmed))"
   ]
  },
  {
   "cell_type": "code",
   "execution_count": null,
   "metadata": {},
   "outputs": [],
   "source": []
  },
  {
   "cell_type": "code",
   "execution_count": 72,
   "metadata": {
    "ExecuteTime": {
     "end_time": "2020-04-04T14:58:38.685181Z",
     "start_time": "2020-04-04T14:58:38.637161Z"
    }
   },
   "outputs": [
    {
     "ename": "IndexError",
     "evalue": "list assignment index out of range",
     "output_type": "error",
     "traceback": [
      "\u001b[0;31m----------------------------------------------------------------------\u001b[0m",
      "\u001b[0;31mIndexError\u001b[0m                           Traceback (most recent call last)",
      "\u001b[0;32m<ipython-input-72-85f604f2bc4c>\u001b[0m in \u001b[0;36m<module>\u001b[0;34m\u001b[0m\n\u001b[0;32m----> 1\u001b[0;31m \u001b[0mtest_stem\u001b[0m\u001b[0;34m(\u001b[0m\u001b[0mtest_text\u001b[0m\u001b[0;34m)\u001b[0m\u001b[0;34m\u001b[0m\u001b[0;34m\u001b[0m\u001b[0m\n\u001b[0m",
      "\u001b[0;32m<ipython-input-71-6f3dbe42a050>\u001b[0m in \u001b[0;36mtest_stem\u001b[0;34m(text_list)\u001b[0m\n\u001b[1;32m      1\u001b[0m \u001b[0;32mdef\u001b[0m \u001b[0mtest_stem\u001b[0m\u001b[0;34m(\u001b[0m\u001b[0mtext_list\u001b[0m\u001b[0;34m)\u001b[0m\u001b[0;34m:\u001b[0m\u001b[0;34m\u001b[0m\u001b[0;34m\u001b[0m\u001b[0m\n\u001b[0;32m----> 2\u001b[0;31m     \u001b[0mprint\u001b[0m\u001b[0;34m(\u001b[0m\u001b[0;34m\"Before stem: \"\u001b[0m\u001b[0;34m,\u001b[0m \u001b[0mget_feature_count\u001b[0m\u001b[0;34m(\u001b[0m\u001b[0mtext_list\u001b[0m\u001b[0;34m)\u001b[0m\u001b[0;34m)\u001b[0m\u001b[0;34m\u001b[0m\u001b[0;34m\u001b[0m\u001b[0m\n\u001b[0m\u001b[1;32m      3\u001b[0m     \u001b[0mstemmed\u001b[0m \u001b[0;34m=\u001b[0m \u001b[0mstem_sequence\u001b[0m\u001b[0;34m(\u001b[0m\u001b[0mtext_list\u001b[0m\u001b[0;34m)\u001b[0m\u001b[0;34m\u001b[0m\u001b[0;34m\u001b[0m\u001b[0m\n\u001b[1;32m      4\u001b[0m     \u001b[0mprint\u001b[0m\u001b[0;34m(\u001b[0m\u001b[0;34m\"After stem: \"\u001b[0m\u001b[0;34m,\u001b[0m \u001b[0mget_feature_count\u001b[0m\u001b[0;34m(\u001b[0m\u001b[0mstemmed\u001b[0m\u001b[0;34m)\u001b[0m\u001b[0;34m)\u001b[0m\u001b[0;34m\u001b[0m\u001b[0;34m\u001b[0m\u001b[0m\n",
      "\u001b[0;32m<ipython-input-60-ac000f30bb88>\u001b[0m in \u001b[0;36mget_feature_count\u001b[0;34m(text_list)\u001b[0m\n\u001b[1;32m      1\u001b[0m \u001b[0;32mdef\u001b[0m \u001b[0mget_feature_count\u001b[0m\u001b[0;34m(\u001b[0m\u001b[0mtext_list\u001b[0m\u001b[0;34m)\u001b[0m\u001b[0;34m:\u001b[0m\u001b[0;34m\u001b[0m\u001b[0;34m\u001b[0m\u001b[0m\n\u001b[0;32m----> 2\u001b[0;31m     \u001b[0msl\u001b[0m \u001b[0;34m=\u001b[0m \u001b[0msegment_list\u001b[0m\u001b[0;34m(\u001b[0m\u001b[0mtext_list\u001b[0m\u001b[0;34m)\u001b[0m\u001b[0;34m\u001b[0m\u001b[0;34m\u001b[0m\u001b[0m\n\u001b[0m\u001b[1;32m      3\u001b[0m     \u001b[0mtk\u001b[0m \u001b[0;34m=\u001b[0m \u001b[0mTextTokenizer\u001b[0m\u001b[0;34m(\u001b[0m\u001b[0msl\u001b[0m\u001b[0;34m)\u001b[0m\u001b[0;34m\u001b[0m\u001b[0;34m\u001b[0m\u001b[0m\n\u001b[1;32m      4\u001b[0m \u001b[0;34m\u001b[0m\u001b[0m\n\u001b[1;32m      5\u001b[0m     \u001b[0;32mreturn\u001b[0m \u001b[0mlen\u001b[0m\u001b[0;34m(\u001b[0m\u001b[0mtk\u001b[0m\u001b[0;34m.\u001b[0m\u001b[0mtokenizer\u001b[0m\u001b[0;34m.\u001b[0m\u001b[0mword_counts\u001b[0m\u001b[0;34m)\u001b[0m\u001b[0;34m\u001b[0m\u001b[0;34m\u001b[0m\u001b[0m\n",
      "\u001b[0;32m<ipython-input-68-665a6d98e218>\u001b[0m in \u001b[0;36msegment_list\u001b[0;34m(text_list)\u001b[0m\n\u001b[1;32m      2\u001b[0m     \u001b[0mresult\u001b[0m \u001b[0;34m=\u001b[0m \u001b[0;34m[\u001b[0m\u001b[0;34m]\u001b[0m\u001b[0;34m\u001b[0m\u001b[0;34m\u001b[0m\u001b[0m\n\u001b[1;32m      3\u001b[0m     \u001b[0;32mfor\u001b[0m \u001b[0midx\u001b[0m\u001b[0;34m,\u001b[0m \u001b[0mtext\u001b[0m \u001b[0;32min\u001b[0m \u001b[0menumerate\u001b[0m\u001b[0;34m(\u001b[0m\u001b[0mtext_list\u001b[0m\u001b[0;34m)\u001b[0m\u001b[0;34m:\u001b[0m\u001b[0;34m\u001b[0m\u001b[0;34m\u001b[0m\u001b[0m\n\u001b[0;32m----> 4\u001b[0;31m         \u001b[0mresult\u001b[0m\u001b[0;34m[\u001b[0m\u001b[0midx\u001b[0m\u001b[0;34m]\u001b[0m \u001b[0;34m=\u001b[0m \u001b[0mtext_to_word_sequence\u001b[0m\u001b[0;34m(\u001b[0m\u001b[0mtext\u001b[0m\u001b[0;34m)\u001b[0m\u001b[0;34m\u001b[0m\u001b[0;34m\u001b[0m\u001b[0m\n\u001b[0m\u001b[1;32m      5\u001b[0m \u001b[0;34m\u001b[0m\u001b[0m\n\u001b[1;32m      6\u001b[0m     \u001b[0;32mreturn\u001b[0m \u001b[0mresult\u001b[0m\u001b[0;34m\u001b[0m\u001b[0;34m\u001b[0m\u001b[0m\n",
      "\u001b[0;31mIndexError\u001b[0m: list assignment index out of range"
     ]
    }
   ],
   "source": [
    "test_stem(test_text)"
   ]
  },
  {
   "cell_type": "code",
   "execution_count": 59,
   "metadata": {
    "ExecuteTime": {
     "end_time": "2020-04-04T14:41:56.713588Z",
     "start_time": "2020-04-04T14:41:56.706988Z"
    }
   },
   "outputs": [
    {
     "data": {
      "text/plain": [
       "659"
      ]
     },
     "execution_count": 59,
     "metadata": {},
     "output_type": "execute_result"
    }
   ],
   "source": [
    "len(get_feature_count(test_text))"
   ]
  },
  {
   "cell_type": "code",
   "execution_count": 51,
   "metadata": {
    "ExecuteTime": {
     "end_time": "2020-04-04T14:24:48.800531Z",
     "start_time": "2020-04-04T14:24:48.796689Z"
    }
   },
   "outputs": [],
   "source": [
    "test_seg = segment_list(test_text)"
   ]
  },
  {
   "cell_type": "code",
   "execution_count": null,
   "metadata": {},
   "outputs": [],
   "source": []
  }
 ],
 "metadata": {
  "kernelspec": {
   "display_name": "Python 3",
   "language": "python",
   "name": "python3"
  },
  "language_info": {
   "codemirror_mode": {
    "name": "ipython",
    "version": 3
   },
   "file_extension": ".py",
   "mimetype": "text/x-python",
   "name": "python",
   "nbconvert_exporter": "python",
   "pygments_lexer": "ipython3",
   "version": "3.7.4"
  },
  "toc": {
   "base_numbering": 1,
   "nav_menu": {},
   "number_sections": false,
   "sideBar": true,
   "skip_h1_title": false,
   "title_cell": "Table of Contents",
   "title_sidebar": "Contents",
   "toc_cell": false,
   "toc_position": {},
   "toc_section_display": true,
   "toc_window_display": true
  },
  "varInspector": {
   "cols": {
    "lenName": 16,
    "lenType": 16,
    "lenVar": 40
   },
   "kernels_config": {
    "python": {
     "delete_cmd_postfix": "",
     "delete_cmd_prefix": "del ",
     "library": "var_list.py",
     "varRefreshCmd": "print(var_dic_list())"
    },
    "r": {
     "delete_cmd_postfix": ") ",
     "delete_cmd_prefix": "rm(",
     "library": "var_list.r",
     "varRefreshCmd": "cat(var_dic_list()) "
    }
   },
   "types_to_exclude": [
    "module",
    "function",
    "builtin_function_or_method",
    "instance",
    "_Feature"
   ],
   "window_display": false
  }
 },
 "nbformat": 4,
 "nbformat_minor": 2
}
