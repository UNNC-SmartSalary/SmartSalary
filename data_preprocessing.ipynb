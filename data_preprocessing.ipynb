{
 "cells": [
  {
   "cell_type": "markdown",
   "metadata": {},
   "source": [
    "# Data Preprocessing"
   ]
  },
  {
   "cell_type": "markdown",
   "metadata": {},
   "source": [
    "## 1 - Basic Analysis"
   ]
  },
  {
   "cell_type": "markdown",
   "metadata": {},
   "source": [
    "### 1.1 - Import Packages"
   ]
  },
  {
   "cell_type": "code",
   "execution_count": 1,
   "metadata": {
    "ExecuteTime": {
     "end_time": "2020-04-05T12:28:03.945768Z",
     "start_time": "2020-04-05T12:28:01.211664Z"
    }
   },
   "outputs": [],
   "source": [
    "import re\n",
    "import pandas as pd\n",
    "from spellchecker import SpellChecker\n",
    "\n",
    "from tensorflow.keras.preprocessing.text import text_to_word_sequence\n",
    "from tensorflow.keras.preprocessing.text import Tokenizer\n",
    "\n",
    "from nltk.stem import PorterStemmer\n",
    "from nltk.stem import SnowballStemmer"
   ]
  },
  {
   "cell_type": "markdown",
   "metadata": {},
   "source": [
    "### 1.2 - Reading Data"
   ]
  },
  {
   "cell_type": "code",
   "execution_count": 2,
   "metadata": {
    "ExecuteTime": {
     "end_time": "2020-04-05T12:28:05.556455Z",
     "start_time": "2020-04-05T12:28:03.948690Z"
    },
    "scrolled": true
   },
   "outputs": [
    {
     "data": {
      "text/html": [
       "<div>\n",
       "<style scoped>\n",
       "    .dataframe tbody tr th:only-of-type {\n",
       "        vertical-align: middle;\n",
       "    }\n",
       "\n",
       "    .dataframe tbody tr th {\n",
       "        vertical-align: top;\n",
       "    }\n",
       "\n",
       "    .dataframe thead th {\n",
       "        text-align: right;\n",
       "    }\n",
       "</style>\n",
       "<table border=\"1\" class=\"dataframe\">\n",
       "  <thead>\n",
       "    <tr style=\"text-align: right;\">\n",
       "      <th></th>\n",
       "      <th>Type</th>\n",
       "      <th>Code</th>\n",
       "      <th>fun1_code</th>\n",
       "      <th>fun2_code</th>\n",
       "      <th>jobname_ch</th>\n",
       "      <th>jobname_en</th>\n",
       "      <th>id</th>\n",
       "      <th>coname</th>\n",
       "      <th>poname</th>\n",
       "      <th>jd</th>\n",
       "      <th>source</th>\n",
       "    </tr>\n",
       "  </thead>\n",
       "  <tbody>\n",
       "    <tr>\n",
       "      <th>0</th>\n",
       "      <td>FUN</td>\n",
       "      <td>BRO</td>\n",
       "      <td>BRO</td>\n",
       "      <td>BRO</td>\n",
       "      <td>商业研究</td>\n",
       "      <td>Business Research</td>\n",
       "      <td>279011</td>\n",
       "      <td>Aldevron</td>\n",
       "      <td>Strategic Account Manager, Nucleic Acids Busin...</td>\n",
       "      <td>\\n\\nWe are currently seeking a Strategic Accou...</td>\n",
       "      <td>monster</td>\n",
       "    </tr>\n",
       "    <tr>\n",
       "      <th>1</th>\n",
       "      <td>FUN</td>\n",
       "      <td>BRO</td>\n",
       "      <td>BRO</td>\n",
       "      <td>BRO</td>\n",
       "      <td>商业研究</td>\n",
       "      <td>Business Research</td>\n",
       "      <td>287601</td>\n",
       "      <td>Synergy America</td>\n",
       "      <td>IT Business Analyst</td>\n",
       "      <td>\\n\\nWe are looking for an IT Business Analyst ...</td>\n",
       "      <td>monster</td>\n",
       "    </tr>\n",
       "    <tr>\n",
       "      <th>2</th>\n",
       "      <td>FUN</td>\n",
       "      <td>BRO</td>\n",
       "      <td>BRO</td>\n",
       "      <td>BRO</td>\n",
       "      <td>商业研究</td>\n",
       "      <td>Business Research</td>\n",
       "      <td>340361</td>\n",
       "      <td>A3 Smart Home</td>\n",
       "      <td>Sr. Business Analyst</td>\n",
       "      <td>\\n\\nWe call our club's vision, mission, values...</td>\n",
       "      <td>monster</td>\n",
       "    </tr>\n",
       "  </tbody>\n",
       "</table>\n",
       "</div>"
      ],
      "text/plain": [
       "  Type Code fun1_code fun2_code jobname_ch         jobname_en      id  \\\n",
       "0  FUN  BRO       BRO       BRO       商业研究  Business Research  279011   \n",
       "1  FUN  BRO       BRO       BRO       商业研究  Business Research  287601   \n",
       "2  FUN  BRO       BRO       BRO       商业研究  Business Research  340361   \n",
       "\n",
       "            coname                                             poname  \\\n",
       "0         Aldevron  Strategic Account Manager, Nucleic Acids Busin...   \n",
       "1  Synergy America                                IT Business Analyst   \n",
       "2    A3 Smart Home                               Sr. Business Analyst   \n",
       "\n",
       "                                                  jd   source  \n",
       "0  \\n\\nWe are currently seeking a Strategic Accou...  monster  \n",
       "1  \\n\\nWe are looking for an IT Business Analyst ...  monster  \n",
       "2  \\n\\nWe call our club's vision, mission, values...  monster  "
      ]
     },
     "execution_count": 2,
     "metadata": {},
     "output_type": "execute_result"
    }
   ],
   "source": [
    "# Read data from local pathway\n",
    "\n",
    "project_path = \"/Users/apple/Documents/Xinzhi/Data/\"\n",
    "data = pd.read_csv(project_path + \"meta_training_data_jd_0401.csv\")\n",
    "\n",
    "data.head(3)"
   ]
  },
  {
   "cell_type": "code",
   "execution_count": 3,
   "metadata": {
    "ExecuteTime": {
     "end_time": "2020-04-05T12:28:05.563011Z",
     "start_time": "2020-04-05T12:28:05.558723Z"
    }
   },
   "outputs": [],
   "source": [
    "# get stop words\n",
    "\n",
    "def get_stopwords(words_file):\n",
    "    stopwords = []\n",
    "    with open(words_file, 'r') as file:\n",
    "        for word in file.readlines():\n",
    "            stopwords.append(word.strip('\\n'))\n",
    "    \n",
    "    return stopwords\n",
    "\n",
    "\n",
    "stopwords = get_stopwords(\"stop_words.txt\")"
   ]
  },
  {
   "cell_type": "markdown",
   "metadata": {},
   "source": [
    "### 1.3 - Data Exploration"
   ]
  },
  {
   "cell_type": "code",
   "execution_count": 4,
   "metadata": {
    "ExecuteTime": {
     "end_time": "2020-04-05T12:28:05.573515Z",
     "start_time": "2020-04-05T12:28:05.566037Z"
    }
   },
   "outputs": [
    {
     "name": "stdout",
     "output_type": "stream",
     "text": [
      "The number of tier 1 job title:  97\n",
      "The number of tier 2 job title:  709\n"
     ]
    }
   ],
   "source": [
    "print(\"The number of tier 1 job title: \", len(data.fun1_code.unique()))\n",
    "print(\"The number of tier 2 job title: \", len(data.Code.unique()))"
   ]
  },
  {
   "cell_type": "code",
   "execution_count": 5,
   "metadata": {
    "ExecuteTime": {
     "end_time": "2020-04-05T12:28:05.629834Z",
     "start_time": "2020-04-05T12:28:05.575309Z"
    }
   },
   "outputs": [
    {
     "data": {
      "text/html": [
       "<div>\n",
       "<style scoped>\n",
       "    .dataframe tbody tr th:only-of-type {\n",
       "        vertical-align: middle;\n",
       "    }\n",
       "\n",
       "    .dataframe tbody tr th {\n",
       "        vertical-align: top;\n",
       "    }\n",
       "\n",
       "    .dataframe thead th {\n",
       "        text-align: right;\n",
       "    }\n",
       "</style>\n",
       "<table border=\"1\" class=\"dataframe\">\n",
       "  <thead>\n",
       "    <tr style=\"text-align: right;\">\n",
       "      <th></th>\n",
       "      <th>Type</th>\n",
       "      <th>fun1_code</th>\n",
       "      <th>fun2_code</th>\n",
       "      <th>jobname_ch</th>\n",
       "      <th>jobname_en</th>\n",
       "      <th>id</th>\n",
       "      <th>coname</th>\n",
       "      <th>poname</th>\n",
       "      <th>jd</th>\n",
       "      <th>source</th>\n",
       "    </tr>\n",
       "    <tr>\n",
       "      <th>Code</th>\n",
       "      <th></th>\n",
       "      <th></th>\n",
       "      <th></th>\n",
       "      <th></th>\n",
       "      <th></th>\n",
       "      <th></th>\n",
       "      <th></th>\n",
       "      <th></th>\n",
       "      <th></th>\n",
       "      <th></th>\n",
       "    </tr>\n",
       "  </thead>\n",
       "  <tbody>\n",
       "    <tr>\n",
       "      <th>AFB080</th>\n",
       "      <td>1</td>\n",
       "      <td>1</td>\n",
       "      <td>1</td>\n",
       "      <td>1</td>\n",
       "      <td>1</td>\n",
       "      <td>1</td>\n",
       "      <td>1</td>\n",
       "      <td>1</td>\n",
       "      <td>1</td>\n",
       "      <td>1</td>\n",
       "    </tr>\n",
       "    <tr>\n",
       "      <th>AFY660</th>\n",
       "      <td>1</td>\n",
       "      <td>1</td>\n",
       "      <td>1</td>\n",
       "      <td>1</td>\n",
       "      <td>1</td>\n",
       "      <td>1</td>\n",
       "      <td>1</td>\n",
       "      <td>1</td>\n",
       "      <td>1</td>\n",
       "      <td>1</td>\n",
       "    </tr>\n",
       "    <tr>\n",
       "      <th>AHR165</th>\n",
       "      <td>1</td>\n",
       "      <td>1</td>\n",
       "      <td>1</td>\n",
       "      <td>1</td>\n",
       "      <td>1</td>\n",
       "      <td>1</td>\n",
       "      <td>1</td>\n",
       "      <td>1</td>\n",
       "      <td>1</td>\n",
       "      <td>1</td>\n",
       "    </tr>\n",
       "    <tr>\n",
       "      <th>AMS900</th>\n",
       "      <td>1</td>\n",
       "      <td>1</td>\n",
       "      <td>1</td>\n",
       "      <td>1</td>\n",
       "      <td>1</td>\n",
       "      <td>1</td>\n",
       "      <td>1</td>\n",
       "      <td>1</td>\n",
       "      <td>1</td>\n",
       "      <td>1</td>\n",
       "    </tr>\n",
       "    <tr>\n",
       "      <th>APM080</th>\n",
       "      <td>1</td>\n",
       "      <td>1</td>\n",
       "      <td>1</td>\n",
       "      <td>1</td>\n",
       "      <td>1</td>\n",
       "      <td>1</td>\n",
       "      <td>1</td>\n",
       "      <td>1</td>\n",
       "      <td>1</td>\n",
       "      <td>1</td>\n",
       "    </tr>\n",
       "    <tr>\n",
       "      <th>APM900</th>\n",
       "      <td>1</td>\n",
       "      <td>1</td>\n",
       "      <td>1</td>\n",
       "      <td>1</td>\n",
       "      <td>1</td>\n",
       "      <td>1</td>\n",
       "      <td>1</td>\n",
       "      <td>1</td>\n",
       "      <td>1</td>\n",
       "      <td>1</td>\n",
       "    </tr>\n",
       "    <tr>\n",
       "      <th>AVO060</th>\n",
       "      <td>1</td>\n",
       "      <td>1</td>\n",
       "      <td>1</td>\n",
       "      <td>1</td>\n",
       "      <td>1</td>\n",
       "      <td>1</td>\n",
       "      <td>1</td>\n",
       "      <td>1</td>\n",
       "      <td>1</td>\n",
       "      <td>1</td>\n",
       "    </tr>\n",
       "    <tr>\n",
       "      <th>BNV</th>\n",
       "      <td>1</td>\n",
       "      <td>1</td>\n",
       "      <td>1</td>\n",
       "      <td>1</td>\n",
       "      <td>1</td>\n",
       "      <td>1</td>\n",
       "      <td>1</td>\n",
       "      <td>1</td>\n",
       "      <td>1</td>\n",
       "      <td>1</td>\n",
       "    </tr>\n",
       "    <tr>\n",
       "      <th>YHF020</th>\n",
       "      <td>1</td>\n",
       "      <td>1</td>\n",
       "      <td>1</td>\n",
       "      <td>1</td>\n",
       "      <td>1</td>\n",
       "      <td>1</td>\n",
       "      <td>1</td>\n",
       "      <td>1</td>\n",
       "      <td>1</td>\n",
       "      <td>1</td>\n",
       "    </tr>\n",
       "  </tbody>\n",
       "</table>\n",
       "</div>"
      ],
      "text/plain": [
       "        Type  fun1_code  fun2_code  jobname_ch  jobname_en  id  coname  \\\n",
       "Code                                                                     \n",
       "AFB080     1          1          1           1           1   1       1   \n",
       "AFY660     1          1          1           1           1   1       1   \n",
       "AHR165     1          1          1           1           1   1       1   \n",
       "AMS900     1          1          1           1           1   1       1   \n",
       "APM080     1          1          1           1           1   1       1   \n",
       "APM900     1          1          1           1           1   1       1   \n",
       "AVO060     1          1          1           1           1   1       1   \n",
       "BNV        1          1          1           1           1   1       1   \n",
       "YHF020     1          1          1           1           1   1       1   \n",
       "\n",
       "        poname  jd  source  \n",
       "Code                        \n",
       "AFB080       1   1       1  \n",
       "AFY660       1   1       1  \n",
       "AHR165       1   1       1  \n",
       "AMS900       1   1       1  \n",
       "APM080       1   1       1  \n",
       "APM900       1   1       1  \n",
       "AVO060       1   1       1  \n",
       "BNV          1   1       1  \n",
       "YHF020       1   1       1  "
      ]
     },
     "execution_count": 5,
     "metadata": {},
     "output_type": "execute_result"
    }
   ],
   "source": [
    "# Class 'Code' that only have 1 instance\n",
    "jd_count = data.groupby('Code').count()\n",
    "jd_count[jd_count['jd']==1]"
   ]
  },
  {
   "cell_type": "markdown",
   "metadata": {},
   "source": [
    "### 1.4 -  JD List"
   ]
  },
  {
   "cell_type": "code",
   "execution_count": 6,
   "metadata": {
    "ExecuteTime": {
     "end_time": "2020-04-05T12:28:05.636695Z",
     "start_time": "2020-04-05T12:28:05.632070Z"
    }
   },
   "outputs": [],
   "source": [
    "# Get the list of jds\n",
    "jd_list = data.jd.tolist()"
   ]
  },
  {
   "cell_type": "code",
   "execution_count": null,
   "metadata": {},
   "outputs": [],
   "source": []
  },
  {
   "cell_type": "markdown",
   "metadata": {},
   "source": [
    "## 2 - Cleaning"
   ]
  },
  {
   "cell_type": "markdown",
   "metadata": {},
   "source": [
    "### 2.1 - Word segmentation"
   ]
  },
  {
   "cell_type": "code",
   "execution_count": 7,
   "metadata": {
    "ExecuteTime": {
     "end_time": "2020-04-05T12:28:05.642957Z",
     "start_time": "2020-04-05T12:28:05.640308Z"
    }
   },
   "outputs": [],
   "source": [
    "# Test base: `text_to_word_sequence`\n",
    "def segment_text_list(text_list):\n",
    "    text_list_segmented = [text_to_word_sequence(text) for text in text_list]\n",
    "    \n",
    "    return text_list_segmented"
   ]
  },
  {
   "cell_type": "markdown",
   "metadata": {},
   "source": [
    "### 2.2 - Correct misspelled words"
   ]
  },
  {
   "cell_type": "code",
   "execution_count": 8,
   "metadata": {
    "ExecuteTime": {
     "end_time": "2020-04-05T12:28:05.650152Z",
     "start_time": "2020-04-05T12:28:05.645473Z"
    }
   },
   "outputs": [],
   "source": [
    "class CheckSpell():\n",
    "    def __init__(self):\n",
    "        self.spell = SpellChecker()\n",
    "    \n",
    "    def find_unknown(self, text_list_segmented):\n",
    "        unkonwn_words = [list(self.spell.unknown(word_list)) for word_list in text_list_segmented]\n",
    "        return unkonwn_words\n",
    "    \n",
    "    def spell_correction(self, text_list_segmented):\n",
    "        corrected = [[self.spell.correction(word) for word in word_list] for word_list in text_list_segmented]\n",
    "        return corrected"
   ]
  },
  {
   "cell_type": "markdown",
   "metadata": {},
   "source": [
    "### 2.3 - Keep pure words"
   ]
  },
  {
   "cell_type": "code",
   "execution_count": 9,
   "metadata": {
    "ExecuteTime": {
     "end_time": "2020-04-05T12:28:05.658729Z",
     "start_time": "2020-04-05T12:28:05.652978Z"
    }
   },
   "outputs": [],
   "source": [
    "# clean the segmented text list, keep only pure english words        \n",
    "\n",
    "def keep_pure_text(text_list_segmented):\n",
    "    for word_list in text_list_segmented:\n",
    "        for word in word_list:\n",
    "            match = re.findall(r'^[a-z]+$', word)\n",
    "            if match:\n",
    "                pass\n",
    "            else: \n",
    "                word_list.remove(word)\n",
    "    \n",
    "    return text_list_segmented"
   ]
  },
  {
   "cell_type": "markdown",
   "metadata": {},
   "source": [
    "### 2.4 - Filter Stopwords"
   ]
  },
  {
   "cell_type": "code",
   "execution_count": 10,
   "metadata": {
    "ExecuteTime": {
     "end_time": "2020-04-05T12:28:05.665684Z",
     "start_time": "2020-04-05T12:28:05.662246Z"
    }
   },
   "outputs": [],
   "source": [
    "def filter_stopwords(text_list_segmented, stop_words):\n",
    "    filtered_words = [[word for word in word_list if word not in stop_words]\n",
    "                      for word_list in text_list_segmented]\n",
    "\n",
    "    return filtered_words"
   ]
  },
  {
   "cell_type": "markdown",
   "metadata": {},
   "source": [
    "### 2.5 - Stemming"
   ]
  },
  {
   "cell_type": "code",
   "execution_count": 11,
   "metadata": {
    "ExecuteTime": {
     "end_time": "2020-04-05T12:28:05.672676Z",
     "start_time": "2020-04-05T12:28:05.668304Z"
    }
   },
   "outputs": [],
   "source": [
    "def stemer_starter(text_list_segmented, in_stemmer='Porter'):\n",
    "    if in_stemmer == 'Snowball':\n",
    "        stemmer = SnowballStemmer(\"english\")\n",
    "    else:\n",
    "        stemmer = PorterStemmer()\n",
    "    \n",
    "    result = [[stemmer.stem(word) for word in word_list] for word_list in text_list_segmented]\n",
    "    \n",
    "    return result"
   ]
  },
  {
   "cell_type": "code",
   "execution_count": 12,
   "metadata": {
    "ExecuteTime": {
     "end_time": "2020-04-05T12:28:05.677614Z",
     "start_time": "2020-04-05T12:28:05.674796Z"
    }
   },
   "outputs": [],
   "source": [
    "def test_stem(text_list_segmented, in_stemmer):\n",
    "    print(\"\\nFeature count before stem: \", get_feature_count(text_list_segmented))\n",
    "    stemmed = stemer_starter(text_list_segmented, in_stemmer)\n",
    "    print(\"Feature count after stem: \", get_feature_count(stemmed))"
   ]
  },
  {
   "cell_type": "code",
   "execution_count": 13,
   "metadata": {
    "ExecuteTime": {
     "end_time": "2020-04-05T12:28:05.681960Z",
     "start_time": "2020-04-05T12:28:05.679474Z"
    }
   },
   "outputs": [],
   "source": [
    "# stem_test_text = [['caresses', 'flies', 'dies', 'mules', 'denied',\n",
    "#                    'died', 'agreed', 'owned', 'humbled', 'sized',\n",
    "#                    'meeting', 'stating', 'siezing', 'itemization',\n",
    "#                    'sensational', 'traditional', 'reference', 'colonizer',\n",
    "#                    'plotted'],\n",
    "#                   ['try', 'tries', 'tring', 'apple', 'apples', 'watch', 'watches',\n",
    "#                    'teeth', 'tooth', 'foot', 'feet']]"
   ]
  },
  {
   "cell_type": "code",
   "execution_count": 14,
   "metadata": {
    "ExecuteTime": {
     "end_time": "2020-04-05T12:28:05.686512Z",
     "start_time": "2020-04-05T12:28:05.684453Z"
    }
   },
   "outputs": [],
   "source": [
    "# print(\"***Porter Stemmer: \")\n",
    "# print(stemer_starter(stem_test_text, 'Porter'))\n",
    "# test_stem(stem_test_text, 'Porter')\n",
    "\n",
    "# print(\"\\n***Snowball Stemmer: \")\n",
    "# print(stemer_starter(stem_test_text, 'Porter'))\n",
    "# test_stem(stem_test_text, 'Porter')"
   ]
  },
  {
   "cell_type": "code",
   "execution_count": null,
   "metadata": {},
   "outputs": [],
   "source": []
  },
  {
   "cell_type": "markdown",
   "metadata": {},
   "source": [
    "## 3 - Tokenization"
   ]
  },
  {
   "cell_type": "code",
   "execution_count": 15,
   "metadata": {
    "ExecuteTime": {
     "end_time": "2020-04-05T12:28:05.699091Z",
     "start_time": "2020-04-05T12:28:05.688400Z"
    }
   },
   "outputs": [],
   "source": [
    "class TextTokenizer():\n",
    "    def __init__(self, texts=None):\n",
    "        self.texts = texts   \n",
    "        self.tokenizer = Tokenizer()\n",
    "        if texts is not None:\n",
    "            self.tokenizer.fit_on_texts(texts)\n",
    "            \n",
    "#         tokenizer.word_counts\n",
    "#         tokenizer.word_docs\n",
    "#         tokenizer.word_index\n",
    "#         tokenizer.document_count\n",
    "        \n",
    "    def train(self, train_text):\n",
    "        self.tokenizer.fit_on_texts(train_text)\n",
    "\n",
    "    def to_sequences(self, in_text=None):\n",
    "        if in_text is None:\n",
    "            return self.tokenizer.texts_to_sequences(self.texts)\n",
    "        else:\n",
    "            return self.tokenizer.texts_to_sequences(in_text)\n",
    "    \n",
    "    def max_length(self):\n",
    "        sequences = self.to_sequences()\n",
    "        lenth = []\n",
    "        for i in sequences:\n",
    "            lenth.append(len(i))\n",
    "        mx_lenth = max(lenth)\n",
    "        \n",
    "        print(lenth.index(mx_lenth), mx_lenth)\n",
    "    \n",
    "    \n",
    "    def max_length2(self):  \n",
    "        sequences = self.to_sequences()\n",
    "        lenth = 0\n",
    "        for i in sequences:\n",
    "            if len(i) > lenth:\n",
    "                lenth = len(i)\n",
    "                idx = sequences.index(i)\n",
    "            else:\n",
    "                continue\n",
    "\n",
    "        print(idx, lenth)\n",
    "    "
   ]
  },
  {
   "cell_type": "code",
   "execution_count": 16,
   "metadata": {
    "ExecuteTime": {
     "end_time": "2020-04-05T12:28:05.706367Z",
     "start_time": "2020-04-05T12:28:05.701962Z"
    }
   },
   "outputs": [],
   "source": [
    "def get_feature_count(text_list_segmented):\n",
    "    tk = TextTokenizer(text_list_segmented)\n",
    "    feature_count = len(tk.tokenizer.word_counts)\n",
    "    \n",
    "    return feature_count"
   ]
  },
  {
   "cell_type": "markdown",
   "metadata": {},
   "source": [
    "## 4 - Evaluation"
   ]
  },
  {
   "cell_type": "markdown",
   "metadata": {},
   "source": [
    "### 4.1 - Test on test data"
   ]
  },
  {
   "cell_type": "code",
   "execution_count": 17,
   "metadata": {
    "ExecuteTime": {
     "end_time": "2020-04-05T12:28:05.714175Z",
     "start_time": "2020-04-05T12:28:05.710301Z"
    }
   },
   "outputs": [],
   "source": [
    "test_jd = ['Job DescriptionImportant Note: During the  application process, ensure your contact information (email and phone number)  is up to date. The invitation can be sent by both email and  text message. In order to receive text message invitations, your profile must  include a mobile phone number designated as “Personal Cell” or “Cellular” in  the contact information of your application.At Wells Fargo, we want to  satisfy our customers’ financial needs and help them succeed financially.  We’re looking for talented people who will put our customers at the center of  everything we do.',\n",
    "           'This role will be based in Charlotte, but will consider other hub  locations.Required Qualifications10 + years of experience in compliance,  operational risk management(includes audit, legal, credit risk, market risk, or the management of a process or business with accountability for compliance or operational risk), or a combination of both; or 10 + years of IT systems  security, business process management or financial services industry  experience, of which 5 + years must include direct experience in compliance, or a combination of bothDesired  QualificationsAdvanced Microsoft Office skillsExcellent verbal, written, and interpersonal communication skillsStrong analytical skills. with high  attention to detail and accuracyAbility to interact, provide feedback/direction',\n",
    "           'Min: $110,600 Mid: $158,000Street AddressNC-Charlotte: 301 S College St -  Charlotte, NCDisclaimerAll offers for employment with Wells Fargo, website: https://www.wellsfargo.com',\n",
    "           'this sentnce has misspelled werds and combinedwords',\n",
    "           'caresses care fly flies die dies died mules deny denied agree agreed own owned tradition traditional sensation sensational meet meeting plot plotted reference references'\n",
    "          ]"
   ]
  },
  {
   "cell_type": "markdown",
   "metadata": {},
   "source": [
    "**Test data explanation**  \n",
    "Line 1, 2, 3 are actual jd snippet from database, there are combined words, special characters and websites  \n",
    "Line 4 is for testing spell checker  \n",
    "Line 5 is for testing stemmer  "
   ]
  },
  {
   "cell_type": "code",
   "execution_count": 18,
   "metadata": {
    "ExecuteTime": {
     "end_time": "2020-04-05T12:28:05.720978Z",
     "start_time": "2020-04-05T12:28:05.716708Z"
    },
    "scrolled": true
   },
   "outputs": [
    {
     "data": {
      "text/plain": [
       "['Job DescriptionImportant Note: During the  application process, ensure your contact information (email and phone number)  is up to date. The invitation can be sent by both email and  text message. In order to receive text message invitations, your profile must  include a mobile phone number designated as “Personal Cell” or “Cellular” in  the contact information of your application.At Wells Fargo, we want to  satisfy our customers’ financial needs and help them succeed financially.  We’re looking for talented people who will put our customers at the center of  everything we do.',\n",
       " 'This role will be based in Charlotte, but will consider other hub  locations.Required Qualifications10 + years of experience in compliance,  operational risk management(includes audit, legal, credit risk, market risk, or the management of a process or business with accountability for compliance or operational risk), or a combination of both; or 10 + years of IT systems  security, business process management or financial services industry  experience, of which 5 + years must include direct experience in compliance, or a combination of bothDesired  QualificationsAdvanced Microsoft Office skillsExcellent verbal, written, and interpersonal communication skillsStrong analytical skills. with high  attention to detail and accuracyAbility to interact, provide feedback/direction',\n",
       " 'Min: $110,600 Mid: $158,000Street AddressNC-Charlotte: 301 S College St -  Charlotte, NCDisclaimerAll offers for employment with Wells Fargo, website: https://www.wellsfargo.com',\n",
       " 'this sentnce has misspelled werds and combinedwords',\n",
       " 'caresses care fly flies die dies died mules deny denied agree agreed own owned tradition traditional sensation sensational meet meeting plot plotted reference references']"
      ]
     },
     "execution_count": 18,
     "metadata": {},
     "output_type": "execute_result"
    }
   ],
   "source": [
    "test_jd"
   ]
  },
  {
   "cell_type": "markdown",
   "metadata": {},
   "source": [
    "#### 4.1.1 - Word segmentation"
   ]
  },
  {
   "cell_type": "code",
   "execution_count": 19,
   "metadata": {
    "ExecuteTime": {
     "end_time": "2020-04-05T12:28:05.727395Z",
     "start_time": "2020-04-05T12:28:05.723042Z"
    }
   },
   "outputs": [
    {
     "name": "stdout",
     "output_type": "stream",
     "text": [
      "['job', 'descriptionimportant', 'note', 'during', 'the', 'application', 'process', 'ensure', 'your', 'contact', 'information', 'email', 'and', 'phone', 'number', 'is', 'up', 'to', 'date', 'the', 'invitation', 'can', 'be', 'sent', 'by', 'both', 'email', 'and', 'text', 'message', 'in', 'order', 'to', 'receive', 'text', 'message', 'invitations', 'your', 'profile', 'must', 'include', 'a', 'mobile', 'phone', 'number', 'designated', 'as', '“personal', 'cell”', 'or', '“cellular”', 'in', 'the', 'contact', 'information', 'of', 'your', 'application', 'at', 'wells', 'fargo', 'we', 'want', 'to', 'satisfy', 'our', 'customers’', 'financial', 'needs', 'and', 'help', 'them', 'succeed', 'financially', 'we’re', 'looking', 'for', 'talented', 'people', 'who', 'will', 'put', 'our', 'customers', 'at', 'the', 'center', 'of', 'everything', 'we', 'do']\n",
      "['this', 'role', 'will', 'be', 'based', 'in', 'charlotte', 'but', 'will', 'consider', 'other', 'hub', 'locations', 'required', 'qualifications10', 'years', 'of', 'experience', 'in', 'compliance', 'operational', 'risk', 'management', 'includes', 'audit', 'legal', 'credit', 'risk', 'market', 'risk', 'or', 'the', 'management', 'of', 'a', 'process', 'or', 'business', 'with', 'accountability', 'for', 'compliance', 'or', 'operational', 'risk', 'or', 'a', 'combination', 'of', 'both', 'or', '10', 'years', 'of', 'it', 'systems', 'security', 'business', 'process', 'management', 'or', 'financial', 'services', 'industry', 'experience', 'of', 'which', '5', 'years', 'must', 'include', 'direct', 'experience', 'in', 'compliance', 'or', 'a', 'combination', 'of', 'bothdesired', 'qualificationsadvanced', 'microsoft', 'office', 'skillsexcellent', 'verbal', 'written', 'and', 'interpersonal', 'communication', 'skillsstrong', 'analytical', 'skills', 'with', 'high', 'attention', 'to', 'detail', 'and', 'accuracyability', 'to', 'interact', 'provide', 'feedback', 'direction']\n",
      "['min', '110', '600', 'mid', '158', '000street', 'addressnc', 'charlotte', '301', 's', 'college', 'st', 'charlotte', 'ncdisclaimerall', 'offers', 'for', 'employment', 'with', 'wells', 'fargo', 'website', 'https', 'www', 'wellsfargo', 'com']\n",
      "['this', 'sentnce', 'has', 'misspelled', 'werds', 'and', 'combinedwords']\n",
      "['caresses', 'care', 'fly', 'flies', 'die', 'dies', 'died', 'mules', 'deny', 'denied', 'agree', 'agreed', 'own', 'owned', 'tradition', 'traditional', 'sensation', 'sensational', 'meet', 'meeting', 'plot', 'plotted', 'reference', 'references']\n"
     ]
    }
   ],
   "source": [
    "# Word segmentation\n",
    "test_jd_seg = segment_text_list(test_jd)\n",
    "\n",
    "for seg in test_jd_seg:\n",
    "    print(seg) "
   ]
  },
  {
   "cell_type": "markdown",
   "metadata": {},
   "source": [
    "#### 4.1.2 - Correct misspelled word"
   ]
  },
  {
   "cell_type": "code",
   "execution_count": 20,
   "metadata": {
    "ExecuteTime": {
     "end_time": "2020-04-05T12:28:05.866400Z",
     "start_time": "2020-04-05T12:28:05.729913Z"
    }
   },
   "outputs": [],
   "source": [
    "cs = CheckSpell()"
   ]
  },
  {
   "cell_type": "code",
   "execution_count": 21,
   "metadata": {
    "ExecuteTime": {
     "end_time": "2020-04-05T12:28:32.926002Z",
     "start_time": "2020-04-05T12:28:05.868330Z"
    },
    "scrolled": false
   },
   "outputs": [
    {
     "name": "stdout",
     "output_type": "stream",
     "text": [
      "['job', 'descriptionimportant', 'note', 'during', 'the', 'application', 'process', 'ensure', 'your', 'contact', 'information', 'email', 'and', 'phone', 'number', 'is', 'up', 'to', 'date', 'the', 'invitation', 'can', 'be', 'sent', 'by', 'both', 'email', 'and', 'text', 'message', 'in', 'order', 'to', 'receive', 'text', 'message', 'invitations', 'your', 'profile', 'must', 'include', 'a', 'mobile', 'phone', 'number', 'designated', 'as', 'personal', 'cells', 'or', 'cellular', 'in', 'the', 'contact', 'information', 'of', 'your', 'application', 'at', 'wells', 'fargo', 'we', 'want', 'to', 'satisfy', 'our', 'customers', 'financial', 'needs', 'and', 'help', 'them', 'succeed', 'financially', 'were', 'looking', 'for', 'talented', 'people', 'who', 'will', 'put', 'our', 'customers', 'at', 'the', 'center', 'of', 'everything', 'we', 'do']\n",
      "['this', 'role', 'will', 'be', 'based', 'in', 'charlotte', 'but', 'will', 'consider', 'other', 'hub', 'locations', 'required', 'qualifications', 'years', 'of', 'experience', 'in', 'compliance', 'operational', 'risk', 'management', 'includes', 'audit', 'legal', 'credit', 'risk', 'market', 'risk', 'or', 'the', 'management', 'of', 'a', 'process', 'or', 'business', 'with', 'accountability', 'for', 'compliance', 'or', 'operational', 'risk', 'or', 'a', 'combination', 'of', 'both', 'or', '10', 'years', 'of', 'it', 'systems', 'security', 'business', 'process', 'management', 'or', 'financial', 'services', 'industry', 'experience', 'of', 'which', '5', 'years', 'must', 'include', 'direct', 'experience', 'in', 'compliance', 'or', 'a', 'combination', 'of', 'bothdesired', 'qualificationsadvanced', 'microsoft', 'office', 'skillsexcellent', 'verbal', 'written', 'and', 'interpersonal', 'communication', 'skillsstrong', 'analytical', 'skills', 'with', 'high', 'attention', 'to', 'detail', 'and', 'accuracyability', 'to', 'interact', 'provide', 'feedback', 'direction']\n",
      "['min', '110', '600', 'mid', '158', '000street', 'address', 'charlotte', '301', 's', 'college', 'st', 'charlotte', 'ncdisclaimerall', 'offers', 'for', 'employment', 'with', 'wells', 'fargo', 'webster', 'steps', 'wow', 'wellsfargo', 'com']\n",
      "['this', 'sentence', 'has', 'misspelled', 'words', 'and', 'combinedwords']\n",
      "['caresses', 'care', 'fly', 'flies', 'die', 'dies', 'died', 'mules', 'deny', 'denied', 'agree', 'agreed', 'own', 'owned', 'tradition', 'traditional', 'sensation', 'sensational', 'meet', 'meeting', 'plot', 'plotted', 'reference', 'references']\n"
     ]
    }
   ],
   "source": [
    "# Correct misspelled word\n",
    "\n",
    "test_jd_seg_cs = cs.spell_correction(test_jd_seg)\n",
    "\n",
    "for seg in test_jd_seg_cs:\n",
    "    print(seg)"
   ]
  },
  {
   "cell_type": "code",
   "execution_count": 22,
   "metadata": {
    "ExecuteTime": {
     "end_time": "2020-04-05T12:28:32.939496Z",
     "start_time": "2020-04-05T12:28:32.933540Z"
    }
   },
   "outputs": [
    {
     "name": "stdout",
     "output_type": "stream",
     "text": [
      "***Unknown words before correction:\n",
      "['customers’', '“personal', 'cell”', '“cellular”', 'we’re', 'descriptionimportant']\n",
      "['accuracyability', 'qualifications10', 'skillsstrong', 'skillsexcellent', 'bothdesired', 'qualificationsadvanced']\n",
      "['ncdisclaimerall', 'www', 'website', '000street', 'https', 'addressnc', 'wellsfargo']\n",
      "['sentnce', 'combinedwords', 'werds']\n",
      "[]\n",
      "\n",
      "***Unknown words after correction:\n",
      "['descriptionimportant']\n",
      "['accuracyability', 'skillsstrong', 'skillsexcellent', 'bothdesired', 'qualificationsadvanced']\n",
      "['000street', 'ncdisclaimerall', 'wellsfargo']\n",
      "['combinedwords']\n",
      "[]\n"
     ]
    }
   ],
   "source": [
    "# We can see some words are not corrected, combined word cannot be handled\n",
    "\n",
    "print(\"***Unknown words before correction:\" )\n",
    "for word_list in cs.find_unknown(test_jd_seg):\n",
    "    print(word_list)\n",
    "    \n",
    "print(\"\\n***Unknown words after correction:\" )\n",
    "for word_list in cs.find_unknown(test_jd_seg_cs):\n",
    "    print(word_list)"
   ]
  },
  {
   "cell_type": "code",
   "execution_count": null,
   "metadata": {},
   "outputs": [],
   "source": []
  },
  {
   "cell_type": "markdown",
   "metadata": {},
   "source": [
    "#### 4.1.3 - Keep pure words"
   ]
  },
  {
   "cell_type": "code",
   "execution_count": 23,
   "metadata": {
    "ExecuteTime": {
     "end_time": "2020-04-05T12:28:32.948665Z",
     "start_time": "2020-04-05T12:28:32.944175Z"
    }
   },
   "outputs": [
    {
     "name": "stdout",
     "output_type": "stream",
     "text": [
      "['job', 'descriptionimportant', 'note', 'during', 'the', 'application', 'process', 'ensure', 'your', 'contact', 'information', 'email', 'and', 'phone', 'number', 'is', 'up', 'to', 'date', 'the', 'invitation', 'can', 'be', 'sent', 'by', 'both', 'email', 'and', 'text', 'message', 'in', 'order', 'to', 'receive', 'text', 'message', 'invitations', 'your', 'profile', 'must', 'include', 'a', 'mobile', 'phone', 'number', 'designated', 'as', 'personal', 'cells', 'or', 'cellular', 'in', 'the', 'contact', 'information', 'of', 'your', 'application', 'at', 'wells', 'fargo', 'we', 'want', 'to', 'satisfy', 'our', 'customers', 'financial', 'needs', 'and', 'help', 'them', 'succeed', 'financially', 'were', 'looking', 'for', 'talented', 'people', 'who', 'will', 'put', 'our', 'customers', 'at', 'the', 'center', 'of', 'everything', 'we', 'do']\n",
      "['this', 'role', 'will', 'be', 'based', 'in', 'charlotte', 'but', 'will', 'consider', 'other', 'hub', 'locations', 'required', 'qualifications', 'years', 'of', 'experience', 'in', 'compliance', 'operational', 'risk', 'management', 'includes', 'audit', 'legal', 'credit', 'risk', 'market', 'risk', 'or', 'the', 'management', 'of', 'a', 'process', 'or', 'business', 'with', 'accountability', 'for', 'compliance', 'or', 'operational', 'risk', 'or', 'a', 'combination', 'of', 'both', 'or', 'years', 'of', 'it', 'systems', 'security', 'business', 'process', 'management', 'or', 'financial', 'services', 'industry', 'experience', 'of', 'which', 'years', 'must', 'include', 'direct', 'experience', 'in', 'compliance', 'or', 'a', 'combination', 'of', 'bothdesired', 'qualificationsadvanced', 'microsoft', 'office', 'skillsexcellent', 'verbal', 'written', 'and', 'interpersonal', 'communication', 'skillsstrong', 'analytical', 'skills', 'with', 'high', 'attention', 'to', 'detail', 'and', 'accuracyability', 'to', 'interact', 'provide', 'feedback', 'direction']\n",
      "['min', 'mid', 'address', 'charlotte', 's', 'college', 'st', 'charlotte', 'ncdisclaimerall', 'offers', 'for', 'employment', 'with', 'wells', 'fargo', 'webster', 'steps', 'wow', 'wellsfargo', 'com']\n",
      "['this', 'sentence', 'has', 'misspelled', 'words', 'and', 'combinedwords']\n",
      "['caresses', 'care', 'fly', 'flies', 'die', 'dies', 'died', 'mules', 'deny', 'denied', 'agree', 'agreed', 'own', 'owned', 'tradition', 'traditional', 'sensation', 'sensational', 'meet', 'meeting', 'plot', 'plotted', 'reference', 'references']\n"
     ]
    }
   ],
   "source": [
    "test_jd_seg_cs_kp = keep_pure_text(test_jd_seg_cs)\n",
    "test_jd_seg_cs_kp = keep_pure_text(test_jd_seg_cs) # It is a bug, have to run it twice to get it work\n",
    "\n",
    "\n",
    "for seg in test_jd_seg_cs_kp:\n",
    "    print(seg)"
   ]
  },
  {
   "cell_type": "markdown",
   "metadata": {},
   "source": [
    "#### 4.1.4 - Filter Stopwords"
   ]
  },
  {
   "cell_type": "code",
   "execution_count": 24,
   "metadata": {
    "ExecuteTime": {
     "end_time": "2020-04-05T12:28:32.958026Z",
     "start_time": "2020-04-05T12:28:32.951101Z"
    }
   },
   "outputs": [
    {
     "name": "stdout",
     "output_type": "stream",
     "text": [
      "['job', 'descriptionimportant', 'note', 'application', 'process', 'ensure', 'contact', 'email', 'phone', 'invitation', 'email', 'text', 'message', 'receive', 'text', 'message', 'invitations', 'profile', 'mobile', 'phone', 'designated', 'personal', 'cells', 'cellular', 'contact', 'application', 'fargo', 'satisfy', 'customers', 'financial', 'succeed', 'financially', 'talented', 'people', 'customers', 'center']\n",
      "['role', 'based', 'charlotte', 'hub', 'locations', 'required', 'qualifications', 'experience', 'compliance', 'operational', 'risk', 'management', 'includes', 'audit', 'legal', 'credit', 'risk', 'market', 'risk', 'management', 'process', 'business', 'accountability', 'compliance', 'operational', 'risk', 'combination', 'systems', 'security', 'business', 'process', 'management', 'financial', 'services', 'industry', 'experience', 'direct', 'experience', 'compliance', 'combination', 'bothdesired', 'qualificationsadvanced', 'microsoft', 'office', 'skillsexcellent', 'verbal', 'written', 'interpersonal', 'communication', 'skillsstrong', 'analytical', 'skills', 'attention', 'detail', 'accuracyability', 'interact', 'provide', 'feedback', 'direction']\n",
      "['min', 'mid', 'address', 'charlotte', 'college', 'st', 'charlotte', 'ncdisclaimerall', 'offers', 'employment', 'fargo', 'webster', 'steps', 'wow', 'wellsfargo']\n",
      "['sentence', 'misspelled', 'combinedwords']\n",
      "['caresses', 'care', 'fly', 'flies', 'die', 'dies', 'died', 'mules', 'deny', 'denied', 'agree', 'agreed', 'owned', 'tradition', 'traditional', 'sensation', 'sensational', 'meet', 'meeting', 'plot', 'plotted', 'reference', 'references']\n"
     ]
    }
   ],
   "source": [
    "test_jd_seg_cs_kp_fs = filter_stopwords(test_jd_seg_cs_kp, stopwords)\n",
    "\n",
    "for seg in test_jd_seg_cs_kp_fs:\n",
    "    print(seg)"
   ]
  },
  {
   "cell_type": "markdown",
   "metadata": {},
   "source": [
    "#### 4.1.5 - Stemming"
   ]
  },
  {
   "cell_type": "code",
   "execution_count": 25,
   "metadata": {
    "ExecuteTime": {
     "end_time": "2020-04-05T12:28:32.968473Z",
     "start_time": "2020-04-05T12:28:32.960590Z"
    }
   },
   "outputs": [
    {
     "name": "stdout",
     "output_type": "stream",
     "text": [
      "['job', 'descriptionimport', 'note', 'applic', 'process', 'ensur', 'contact', 'email', 'phone', 'invit', 'email', 'text', 'messag', 'receiv', 'text', 'messag', 'invit', 'profil', 'mobil', 'phone', 'design', 'person', 'cell', 'cellular', 'contact', 'applic', 'fargo', 'satisfi', 'custom', 'financi', 'succeed', 'financi', 'talent', 'peopl', 'custom', 'center']\n",
      "['role', 'base', 'charlott', 'hub', 'locat', 'requir', 'qualif', 'experi', 'complianc', 'oper', 'risk', 'manag', 'includ', 'audit', 'legal', 'credit', 'risk', 'market', 'risk', 'manag', 'process', 'busi', 'account', 'complianc', 'oper', 'risk', 'combin', 'system', 'secur', 'busi', 'process', 'manag', 'financi', 'servic', 'industri', 'experi', 'direct', 'experi', 'complianc', 'combin', 'bothdesir', 'qualificationsadvanc', 'microsoft', 'offic', 'skillsexcel', 'verbal', 'written', 'interperson', 'commun', 'skillsstrong', 'analyt', 'skill', 'attent', 'detail', 'accuracy', 'interact', 'provid', 'feedback', 'direct']\n",
      "['min', 'mid', 'address', 'charlott', 'colleg', 'st', 'charlott', 'ncdisclaimeral', 'offer', 'employ', 'fargo', 'webster', 'step', 'wow', 'wellsfargo']\n",
      "['sentenc', 'misspel', 'combinedword']\n",
      "['caress', 'care', 'fli', 'fli', 'die', 'die', 'die', 'mule', 'deni', 'deni', 'agre', 'agre', 'own', 'tradit', 'tradit', 'sensat', 'sensat', 'meet', 'meet', 'plot', 'plot', 'refer', 'refer']\n"
     ]
    }
   ],
   "source": [
    "test_jd_seg_cs_kp_fs_s =  stemer_starter(test_jd_seg_cs_kp_fs, 'Porter')\n",
    "\n",
    "for seg in test_jd_seg_cs_kp_fs_s:\n",
    "    print(seg)"
   ]
  },
  {
   "cell_type": "code",
   "execution_count": null,
   "metadata": {},
   "outputs": [],
   "source": []
  },
  {
   "cell_type": "markdown",
   "metadata": {},
   "source": [
    "#### Result"
   ]
  },
  {
   "cell_type": "code",
   "execution_count": 26,
   "metadata": {
    "ExecuteTime": {
     "end_time": "2020-04-05T12:28:32.975085Z",
     "start_time": "2020-04-05T12:28:32.970852Z"
    }
   },
   "outputs": [
    {
     "name": "stdout",
     "output_type": "stream",
     "text": [
      "\n",
      "Feature count before stem:  172\n",
      "Feature count after stem:  98\n"
     ]
    }
   ],
   "source": [
    "print(\"\\nFeature count before stem: \", get_feature_count(test_jd_seg))\n",
    "print(\"Feature count after stem: \", get_feature_count(test_jd_seg_cs_kp_fs_s))"
   ]
  },
  {
   "cell_type": "code",
   "execution_count": null,
   "metadata": {},
   "outputs": [],
   "source": []
  },
  {
   "cell_type": "markdown",
   "metadata": {},
   "source": [
    "### 4.2 - Test on entire dataset"
   ]
  },
  {
   "cell_type": "code",
   "execution_count": null,
   "metadata": {},
   "outputs": [],
   "source": [
    "#TODO"
   ]
  }
 ],
 "metadata": {
  "kernelspec": {
   "display_name": "Python 3",
   "language": "python",
   "name": "python3"
  },
  "language_info": {
   "codemirror_mode": {
    "name": "ipython",
    "version": 3
   },
   "file_extension": ".py",
   "mimetype": "text/x-python",
   "name": "python",
   "nbconvert_exporter": "python",
   "pygments_lexer": "ipython3",
   "version": "3.7.4"
  },
  "toc": {
   "base_numbering": 1,
   "nav_menu": {},
   "number_sections": false,
   "sideBar": true,
   "skip_h1_title": false,
   "title_cell": "Table of Contents",
   "title_sidebar": "Contents",
   "toc_cell": false,
   "toc_position": {
    "height": "calc(100% - 180px)",
    "left": "10px",
    "top": "150px",
    "width": "196.989px"
   },
   "toc_section_display": true,
   "toc_window_display": true
  },
  "varInspector": {
   "cols": {
    "lenName": 16,
    "lenType": 16,
    "lenVar": 40
   },
   "kernels_config": {
    "python": {
     "delete_cmd_postfix": "",
     "delete_cmd_prefix": "del ",
     "library": "var_list.py",
     "varRefreshCmd": "print(var_dic_list())"
    },
    "r": {
     "delete_cmd_postfix": ") ",
     "delete_cmd_prefix": "rm(",
     "library": "var_list.r",
     "varRefreshCmd": "cat(var_dic_list()) "
    }
   },
   "types_to_exclude": [
    "module",
    "function",
    "builtin_function_or_method",
    "instance",
    "_Feature"
   ],
   "window_display": false
  }
 },
 "nbformat": 4,
 "nbformat_minor": 2
}
